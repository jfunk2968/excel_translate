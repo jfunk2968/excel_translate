{
 "cells": [
  {
   "cell_type": "code",
   "execution_count": 1,
   "metadata": {
    "collapsed": false
   },
   "outputs": [
    {
     "name": "stdout",
     "output_type": "stream",
     "text": [
      "TERM_PROGRAM=Apple_Terminal\r\n",
      "SHELL=/bin/bash\r\n",
      "TERM=xterm-color\r\n",
      "CLICOLOR=1\r\n",
      "TMPDIR=/var/folders/vm/_2n_94rd1gd34nh7v0j3nbfc0000gn/T/\r\n",
      "Apple_PubSub_Socket_Render=/private/tmp/com.apple.launchd.gp017iMaJz/Render\r\n",
      "TERM_PROGRAM_VERSION=343.7\r\n",
      "TERM_SESSION_ID=FBF7CBEA-DAFB-4729-93AE-377D61D6E3B6\r\n",
      "USER=Jeremy\r\n",
      "http_proxy=localhost:3128\r\n",
      "SSH_AUTH_SOCK=/private/tmp/com.apple.launchd.YOWhFsxGSC/Listeners\r\n",
      "__CF_USER_TEXT_ENCODING=0x1F5:0x0:0x0\r\n",
      "ftp_proxy=localhost:3182\r\n",
      "JPY_PARENT_PID=17524\r\n",
      "PAGER=cat\r\n",
      "NLSPATH=/Library/teradata/teradataLib1500/../odbc/msg/tdodbc.cat\r\n",
      "PATH=/opt/local/bin:/opt/local/sbin:/Users/Jeremy/anaconda/bin:/usr/local/bin:/usr/bin:/bin:/usr/sbin:/sbin\r\n",
      "_=/usr/bin/env\r\n",
      "PWD=/Users/Jeremy/Desktop/Python Code/excel_translate\r\n",
      "MPLBACKEND=module://ipykernel.pylab.backend_inline\r\n",
      "LANG=en_US.UTF-8\r\n",
      "XPC_FLAGS=0x0\r\n",
      "https_proxy=localhost:3128\r\n",
      "XPC_SERVICE_NAME=0\r\n",
      "SHLVL=2\r\n",
      "HOME=/Users/Jeremy\r\n",
      "DYLD_LIBRARY_PATH=/Library/Application Support/teradata/client/15.00/lib\r\n",
      "LOGNAME=Jeremy\r\n",
      "GIT_PAGER=cat\r\n",
      "SECURITYSESSIONID=186a6\r\n"
     ]
    }
   ],
   "source": [
    "import pandas as pd\n",
    "from openpyxl import Workbook\n",
    "from openpyxl import load_workbook\n",
    "from google.cloud import translate\n",
    "import google.auth\n",
    "from google.oauth2 import service_account\n",
    "!env"
   ]
  },
  {
   "cell_type": "code",
   "execution_count": 2,
   "metadata": {
    "collapsed": false
   },
   "outputs": [],
   "source": [
    "api_key = service_account.Credentials.from_service_account_file('/Users/Jeremy/Documents/JeremyIndoTran-e20d64f5ca5b.json')"
   ]
  },
  {
   "cell_type": "code",
   "execution_count": 3,
   "metadata": {
    "collapsed": false
   },
   "outputs": [
    {
     "data": {
      "text/plain": [
       "{'_additional_claims': {},\n",
       " '_scopes': None,\n",
       " '_service_account_email': u'indo-862@jeremyindotran.iam.gserviceaccount.com',\n",
       " '_signer': <google.auth.crypt.RSASigner at 0x106ce5790>,\n",
       " '_subject': None,\n",
       " '_token_uri': u'https://accounts.google.com/o/oauth2/token',\n",
       " 'expiry': None,\n",
       " 'token': None}"
      ]
     },
     "execution_count": 3,
     "metadata": {},
     "output_type": "execute_result"
    }
   ],
   "source": [
    "api_key.__dict__\n",
    "# api_key.scopes"
   ]
  },
  {
   "cell_type": "code",
   "execution_count": 4,
   "metadata": {
    "collapsed": false
   },
   "outputs": [
    {
     "data": {
      "text/plain": [
       "\"\\ncheck for repeated values - don't want to google the same value over and over\\n\\ncheck list of column headers and translate\\n\\nallow for list of columns to exclude/translate\\n\\ncheck for uniqueness of columns to treat text and 'codes' separately\\n\\n\\n\""
      ]
     },
     "execution_count": 4,
     "metadata": {},
     "output_type": "execute_result"
    }
   ],
   "source": [
    "\"\"\"\n",
    "check for repeated values - don't want to google the same value over and over\n",
    "\n",
    "check list of column headers and translate\n",
    "\n",
    "allow for list of columns to exclude/translate\n",
    "\n",
    "check for uniqueness of columns to treat text and 'codes' separately\n",
    "\n",
    "\n",
    "\"\"\""
   ]
  },
  {
   "cell_type": "code",
   "execution_count": 5,
   "metadata": {
    "collapsed": false
   },
   "outputs": [
    {
     "name": "stderr",
     "output_type": "stream",
     "text": [
      "/Users/Jeremy/anaconda/lib/python2.7/site-packages/openpyxl/reader/worksheet.py:307: UserWarning: Unknown extension is not supported and will be removed\n",
      "  warn(msg)\n"
     ]
    }
   ],
   "source": [
    "wb = load_workbook(\"test.xlsx\")"
   ]
  },
  {
   "cell_type": "code",
   "execution_count": 6,
   "metadata": {
    "collapsed": false
   },
   "outputs": [
    {
     "name": "stdout",
     "output_type": "stream",
     "text": [
      "[u'Sheet1', u'Spanish']\n"
     ]
    }
   ],
   "source": [
    "print(wb.sheetnames)"
   ]
  },
  {
   "cell_type": "code",
   "execution_count": 7,
   "metadata": {
    "collapsed": false
   },
   "outputs": [],
   "source": [
    "ws = wb['Spanish']"
   ]
  },
  {
   "cell_type": "code",
   "execution_count": 8,
   "metadata": {
    "collapsed": false
   },
   "outputs": [
    {
     "name": "stdout",
     "output_type": "stream",
     "text": [
      "English\n",
      "Good morning.\n",
      "Good afternoon.\n",
      "Good evening. (greeting)\n",
      "Hello, my name is John.\n",
      "What is your name?\n",
      "How are you?\n",
      "I am fine.\n",
      "Nice to meet you.\n",
      "Goodbye.\n",
      "See you later.\n",
      "I am lost. Where is the restroom?\n",
      "Excuse me.\n",
      "Please.\n",
      "Thank you.\n",
      "I'm sorry.\n",
      "Bless you.\n",
      "You are welcome (it was nothing).\n",
      "How much does it cost?\n",
      "How many are there?\n",
      "There are many.\n",
      "Do you want to buy this?\n",
      "What time is it?\n",
      "How do you say maybe in Spanish?\n",
      "Yes.\n",
      "No.\n",
      "I do not understand.\n",
      "Would you speak slower, please.\n",
      "Who?\n",
      "Why?\n",
      "Spanish\n",
      "Buenos días.\n",
      "Buenas tardes.\n",
      "Buenas noches.\n",
      "Hola, me llamo Juan.\n",
      "¿Cómo se llama usted?\n",
      "¿Cómo está usted?\n",
      "Estoy bien.\n",
      "Mucho gusto.\n",
      "Adiós.\n",
      "Hasta luego.\n",
      "Estoy perdido. ¿Dónde está el baño?\n",
      "Con permiso. OR Perdóname\n",
      "Por favor.\n",
      "Gracías.\n",
      "Lo siento.\n",
      "Salud.\n",
      "De nada.\n",
      "¿Cuánto cuesta?\n",
      "¿Cuántos hay?\n",
      "Hay muchos.\n",
      "¿Quiere comprarlo usted?\n",
      "¿Qué hora es?\n",
      "¿Cómo se dice maybe en Español?\n",
      "Sí.\n",
      "No.\n",
      "Yo no comprendo.\n",
      "Por favor, habla mas despacio.\n",
      "¿Quièn?\n",
      "¿Por què?\n",
      "Pronunciation\n",
      "booEHN-os DEE-as\n",
      "booEHN-as TAR-dehs\n",
      "booEHN-as NO-chehs\n",
      "OH-la meh YA-mo Wahn\n",
      "KOH-moh seh YA-mah oos-TEHD\n",
      "KOH-moh ehs-TA oos-TEHD\n",
      "ehs-TOY bee-EHN\n",
      "MOO-choh GOOS-toh\n",
      "ah-dee-OHS\n",
      "AHS-ta looEH-go\n",
      "ehs-TOY pehr-DEE-doh. DOHN-deh ehs-TA el BAH-neeo\n",
      "kohn pehr-MEE-soh OR pehr-DOH-nah-meh\n",
      "pohr fah-VOR\n",
      "gra-SEE-ahs\n",
      "low see-EHN-to\n",
      "sah-LOOD\n",
      "deh NA-da\n",
      "kooAN-to KWEHS-ta\n",
      "kooAN-tohs eye\n",
      "eye MOO-chohs\n",
      "kee-EHR-eh kohm-PRAR-loh oos-TEHD\n",
      "keh OR-ah ehs\n",
      "KOH-mo seh DEE-seh maybe ehn ehs-pahn-YOL\n",
      "see\n",
      "no\n",
      "yoh no kom-PREN-doh\n",
      "pohr fah-VOR, AH-blah mahs dehs-PAHS-ee-oh\n",
      "kee-EHN\n",
      "pohr keh\n"
     ]
    }
   ],
   "source": [
    "for col in ws.iter_cols():\n",
    "    for cell in col:\n",
    "        print(cell.value)"
   ]
  },
  {
   "cell_type": "code",
   "execution_count": 9,
   "metadata": {
    "collapsed": false
   },
   "outputs": [
    {
     "data": {
      "text/plain": [
       "'\\n# if sheet has headers and index\\n\\nimport itertools\\ndata = ws.values\\ncols = next(data)[1:]\\ndata = list(data)\\nidx = [r[0] for r in data]\\ndata = (itertools.islice(r, 1, None) for r in data)\\ndf = pd.DataFrame(data, index=idx, columns=cols)\\n\\n# if sheet is just data\\n\\ndf = pd.DataFrame(ws.values)\\n'"
      ]
     },
     "execution_count": 9,
     "metadata": {},
     "output_type": "execute_result"
    }
   ],
   "source": [
    "# if sheet has headers and NO index\n",
    "\n",
    "import itertools\n",
    "data = ws.values\n",
    "cols = next(data)\n",
    "data = list(data)\n",
    "data = (itertools.islice(r, 0, None) for r in data)\n",
    "df = pd.DataFrame(data, columns=cols)\n",
    "\n",
    "\"\"\"\n",
    "# if sheet has headers and index\n",
    "\n",
    "import itertools\n",
    "data = ws.values\n",
    "cols = next(data)[1:]\n",
    "data = list(data)\n",
    "idx = [r[0] for r in data]\n",
    "data = (itertools.islice(r, 1, None) for r in data)\n",
    "df = pd.DataFrame(data, index=idx, columns=cols)\n",
    "\n",
    "# if sheet is just data\n",
    "\n",
    "df = pd.DataFrame(ws.values)\n",
    "\"\"\""
   ]
  },
  {
   "cell_type": "code",
   "execution_count": 10,
   "metadata": {
    "collapsed": false
   },
   "outputs": [
    {
     "data": {
      "text/html": [
       "<div>\n",
       "<table border=\"1\" class=\"dataframe\">\n",
       "  <thead>\n",
       "    <tr style=\"text-align: right;\">\n",
       "      <th></th>\n",
       "      <th>English</th>\n",
       "      <th>Spanish</th>\n",
       "      <th>Pronunciation</th>\n",
       "    </tr>\n",
       "  </thead>\n",
       "  <tbody>\n",
       "    <tr>\n",
       "      <th>0</th>\n",
       "      <td>Good morning.</td>\n",
       "      <td>Buenos días.</td>\n",
       "      <td>booEHN-os DEE-as</td>\n",
       "    </tr>\n",
       "    <tr>\n",
       "      <th>1</th>\n",
       "      <td>Good afternoon.</td>\n",
       "      <td>Buenas tardes.</td>\n",
       "      <td>booEHN-as TAR-dehs</td>\n",
       "    </tr>\n",
       "    <tr>\n",
       "      <th>2</th>\n",
       "      <td>Good evening. (greeting)</td>\n",
       "      <td>Buenas noches.</td>\n",
       "      <td>booEHN-as NO-chehs</td>\n",
       "    </tr>\n",
       "    <tr>\n",
       "      <th>3</th>\n",
       "      <td>Hello, my name is John.</td>\n",
       "      <td>Hola, me llamo Juan.</td>\n",
       "      <td>OH-la meh YA-mo Wahn</td>\n",
       "    </tr>\n",
       "    <tr>\n",
       "      <th>4</th>\n",
       "      <td>What is your name?</td>\n",
       "      <td>¿Cómo se llama usted?</td>\n",
       "      <td>KOH-moh seh YA-mah oos-TEHD</td>\n",
       "    </tr>\n",
       "    <tr>\n",
       "      <th>5</th>\n",
       "      <td>How are you?</td>\n",
       "      <td>¿Cómo está usted?</td>\n",
       "      <td>KOH-moh ehs-TA oos-TEHD</td>\n",
       "    </tr>\n",
       "    <tr>\n",
       "      <th>6</th>\n",
       "      <td>I am fine.</td>\n",
       "      <td>Estoy bien.</td>\n",
       "      <td>ehs-TOY bee-EHN</td>\n",
       "    </tr>\n",
       "    <tr>\n",
       "      <th>7</th>\n",
       "      <td>Nice to meet you.</td>\n",
       "      <td>Mucho gusto.</td>\n",
       "      <td>MOO-choh GOOS-toh</td>\n",
       "    </tr>\n",
       "    <tr>\n",
       "      <th>8</th>\n",
       "      <td>Goodbye.</td>\n",
       "      <td>Adiós.</td>\n",
       "      <td>ah-dee-OHS</td>\n",
       "    </tr>\n",
       "    <tr>\n",
       "      <th>9</th>\n",
       "      <td>See you later.</td>\n",
       "      <td>Hasta luego.</td>\n",
       "      <td>AHS-ta looEH-go</td>\n",
       "    </tr>\n",
       "    <tr>\n",
       "      <th>10</th>\n",
       "      <td>I am lost. Where is the restroom?</td>\n",
       "      <td>Estoy perdido. ¿Dónde está el baño?</td>\n",
       "      <td>ehs-TOY pehr-DEE-doh. DOHN-deh ehs-TA el BAH-neeo</td>\n",
       "    </tr>\n",
       "    <tr>\n",
       "      <th>11</th>\n",
       "      <td>Excuse me.</td>\n",
       "      <td>Con permiso. OR Perdóname</td>\n",
       "      <td>kohn pehr-MEE-soh OR pehr-DOH-nah-meh</td>\n",
       "    </tr>\n",
       "    <tr>\n",
       "      <th>12</th>\n",
       "      <td>Please.</td>\n",
       "      <td>Por favor.</td>\n",
       "      <td>pohr fah-VOR</td>\n",
       "    </tr>\n",
       "    <tr>\n",
       "      <th>13</th>\n",
       "      <td>Thank you.</td>\n",
       "      <td>Gracías.</td>\n",
       "      <td>gra-SEE-ahs</td>\n",
       "    </tr>\n",
       "    <tr>\n",
       "      <th>14</th>\n",
       "      <td>I'm sorry.</td>\n",
       "      <td>Lo siento.</td>\n",
       "      <td>low see-EHN-to</td>\n",
       "    </tr>\n",
       "    <tr>\n",
       "      <th>15</th>\n",
       "      <td>Bless you.</td>\n",
       "      <td>Salud.</td>\n",
       "      <td>sah-LOOD</td>\n",
       "    </tr>\n",
       "    <tr>\n",
       "      <th>16</th>\n",
       "      <td>You are welcome (it was nothing).</td>\n",
       "      <td>De nada.</td>\n",
       "      <td>deh NA-da</td>\n",
       "    </tr>\n",
       "    <tr>\n",
       "      <th>17</th>\n",
       "      <td>How much does it cost?</td>\n",
       "      <td>¿Cuánto cuesta?</td>\n",
       "      <td>kooAN-to KWEHS-ta</td>\n",
       "    </tr>\n",
       "    <tr>\n",
       "      <th>18</th>\n",
       "      <td>How many are there?</td>\n",
       "      <td>¿Cuántos hay?</td>\n",
       "      <td>kooAN-tohs eye</td>\n",
       "    </tr>\n",
       "    <tr>\n",
       "      <th>19</th>\n",
       "      <td>There are many.</td>\n",
       "      <td>Hay muchos.</td>\n",
       "      <td>eye MOO-chohs</td>\n",
       "    </tr>\n",
       "    <tr>\n",
       "      <th>20</th>\n",
       "      <td>Do you want to buy this?</td>\n",
       "      <td>¿Quiere comprarlo usted?</td>\n",
       "      <td>kee-EHR-eh kohm-PRAR-loh oos-TEHD</td>\n",
       "    </tr>\n",
       "    <tr>\n",
       "      <th>21</th>\n",
       "      <td>What time is it?</td>\n",
       "      <td>¿Qué hora es?</td>\n",
       "      <td>keh OR-ah ehs</td>\n",
       "    </tr>\n",
       "    <tr>\n",
       "      <th>22</th>\n",
       "      <td>How do you say maybe in Spanish?</td>\n",
       "      <td>¿Cómo se dice maybe en Español?</td>\n",
       "      <td>KOH-mo seh DEE-seh maybe ehn ehs-pahn-YOL</td>\n",
       "    </tr>\n",
       "    <tr>\n",
       "      <th>23</th>\n",
       "      <td>Yes.</td>\n",
       "      <td>Sí.</td>\n",
       "      <td>see</td>\n",
       "    </tr>\n",
       "    <tr>\n",
       "      <th>24</th>\n",
       "      <td>No.</td>\n",
       "      <td>No.</td>\n",
       "      <td>no</td>\n",
       "    </tr>\n",
       "    <tr>\n",
       "      <th>25</th>\n",
       "      <td>I do not understand.</td>\n",
       "      <td>Yo no comprendo.</td>\n",
       "      <td>yoh no kom-PREN-doh</td>\n",
       "    </tr>\n",
       "    <tr>\n",
       "      <th>26</th>\n",
       "      <td>Would you speak slower, please.</td>\n",
       "      <td>Por favor, habla mas despacio.</td>\n",
       "      <td>pohr fah-VOR, AH-blah mahs dehs-PAHS-ee-oh</td>\n",
       "    </tr>\n",
       "    <tr>\n",
       "      <th>27</th>\n",
       "      <td>Who?</td>\n",
       "      <td>¿Quièn?</td>\n",
       "      <td>kee-EHN</td>\n",
       "    </tr>\n",
       "    <tr>\n",
       "      <th>28</th>\n",
       "      <td>Why?</td>\n",
       "      <td>¿Por què?</td>\n",
       "      <td>pohr keh</td>\n",
       "    </tr>\n",
       "  </tbody>\n",
       "</table>\n",
       "</div>"
      ],
      "text/plain": [
       "                              English                              Spanish  \\\n",
       "0                       Good morning.                         Buenos días.   \n",
       "1                     Good afternoon.                       Buenas tardes.   \n",
       "2            Good evening. (greeting)                       Buenas noches.   \n",
       "3             Hello, my name is John.                 Hola, me llamo Juan.   \n",
       "4                  What is your name?                ¿Cómo se llama usted?   \n",
       "5                        How are you?                    ¿Cómo está usted?   \n",
       "6                          I am fine.                          Estoy bien.   \n",
       "7                   Nice to meet you.                         Mucho gusto.   \n",
       "8                            Goodbye.                               Adiós.   \n",
       "9                      See you later.                         Hasta luego.   \n",
       "10  I am lost. Where is the restroom?  Estoy perdido. ¿Dónde está el baño?   \n",
       "11                         Excuse me.            Con permiso. OR Perdóname   \n",
       "12                            Please.                           Por favor.   \n",
       "13                         Thank you.                             Gracías.   \n",
       "14                         I'm sorry.                           Lo siento.   \n",
       "15                         Bless you.                               Salud.   \n",
       "16  You are welcome (it was nothing).                             De nada.   \n",
       "17             How much does it cost?                      ¿Cuánto cuesta?   \n",
       "18                How many are there?                        ¿Cuántos hay?   \n",
       "19                    There are many.                          Hay muchos.   \n",
       "20           Do you want to buy this?             ¿Quiere comprarlo usted?   \n",
       "21                   What time is it?                        ¿Qué hora es?   \n",
       "22   How do you say maybe in Spanish?      ¿Cómo se dice maybe en Español?   \n",
       "23                               Yes.                                  Sí.   \n",
       "24                                No.                                  No.   \n",
       "25               I do not understand.                     Yo no comprendo.   \n",
       "26    Would you speak slower, please.       Por favor, habla mas despacio.   \n",
       "27                               Who?                              ¿Quièn?   \n",
       "28                               Why?                            ¿Por què?   \n",
       "\n",
       "                                        Pronunciation  \n",
       "0                                    booEHN-os DEE-as  \n",
       "1                                  booEHN-as TAR-dehs  \n",
       "2                                  booEHN-as NO-chehs  \n",
       "3                                OH-la meh YA-mo Wahn  \n",
       "4                         KOH-moh seh YA-mah oos-TEHD  \n",
       "5                             KOH-moh ehs-TA oos-TEHD  \n",
       "6                                     ehs-TOY bee-EHN  \n",
       "7                                   MOO-choh GOOS-toh  \n",
       "8                                          ah-dee-OHS  \n",
       "9                                     AHS-ta looEH-go  \n",
       "10  ehs-TOY pehr-DEE-doh. DOHN-deh ehs-TA el BAH-neeo  \n",
       "11              kohn pehr-MEE-soh OR pehr-DOH-nah-meh  \n",
       "12                                       pohr fah-VOR  \n",
       "13                                        gra-SEE-ahs  \n",
       "14                                     low see-EHN-to  \n",
       "15                                           sah-LOOD  \n",
       "16                                          deh NA-da  \n",
       "17                                  kooAN-to KWEHS-ta  \n",
       "18                                     kooAN-tohs eye  \n",
       "19                                      eye MOO-chohs  \n",
       "20                  kee-EHR-eh kohm-PRAR-loh oos-TEHD  \n",
       "21                                      keh OR-ah ehs  \n",
       "22          KOH-mo seh DEE-seh maybe ehn ehs-pahn-YOL  \n",
       "23                                                see  \n",
       "24                                                 no  \n",
       "25                                yoh no kom-PREN-doh  \n",
       "26         pohr fah-VOR, AH-blah mahs dehs-PAHS-ee-oh  \n",
       "27                                            kee-EHN  \n",
       "28                                           pohr keh  "
      ]
     },
     "execution_count": 10,
     "metadata": {},
     "output_type": "execute_result"
    }
   ],
   "source": [
    "df"
   ]
  },
  {
   "cell_type": "code",
   "execution_count": 11,
   "metadata": {
    "collapsed": false
   },
   "outputs": [],
   "source": [
    "# check for numeric or date columns and insert text cols into dict\n",
    "\n",
    "text = {}\n",
    "\n",
    "for name, col in df.iteritems():\n",
    "    \n",
    "    try:\n",
    "        pd.to_numeric(col)\n",
    "        \n",
    "    except:\n",
    "        \n",
    "        try:\n",
    "            pd.to_date(col)\n",
    "            \n",
    "        except:\n",
    "            text[name] = col"
   ]
  },
  {
   "cell_type": "code",
   "execution_count": 12,
   "metadata": {
    "collapsed": false
   },
   "outputs": [
    {
     "name": "stdout",
     "output_type": "stream",
     "text": [
      "{u'Pronunciation': 0                                      booEHN-os DEE-as\n",
      "1                                    booEHN-as TAR-dehs\n",
      "2                                    booEHN-as NO-chehs\n",
      "3                                  OH-la meh YA-mo Wahn\n",
      "4                           KOH-moh seh YA-mah oos-TEHD\n",
      "5                               KOH-moh ehs-TA oos-TEHD\n",
      "6                                       ehs-TOY bee-EHN\n",
      "7                                     MOO-choh GOOS-toh\n",
      "8                                            ah-dee-OHS\n",
      "9                                       AHS-ta looEH-go\n",
      "10    ehs-TOY pehr-DEE-doh. DOHN-deh ehs-TA el BAH-neeo\n",
      "11                kohn pehr-MEE-soh OR pehr-DOH-nah-meh\n",
      "12                                         pohr fah-VOR\n",
      "13                                          gra-SEE-ahs\n",
      "14                                       low see-EHN-to\n",
      "15                                             sah-LOOD\n",
      "16                                            deh NA-da\n",
      "17                                    kooAN-to KWEHS-ta\n",
      "18                                       kooAN-tohs eye\n",
      "19                                        eye MOO-chohs\n",
      "20                    kee-EHR-eh kohm-PRAR-loh oos-TEHD\n",
      "21                                        keh OR-ah ehs\n",
      "22            KOH-mo seh DEE-seh maybe ehn ehs-pahn-YOL\n",
      "23                                                  see\n",
      "24                                                   no\n",
      "25                                  yoh no kom-PREN-doh\n",
      "26           pohr fah-VOR, AH-blah mahs dehs-PAHS-ee-oh\n",
      "27                                              kee-EHN\n",
      "28                                             pohr keh\n",
      "Name: Pronunciation, dtype: object, u'Spanish': 0                            Buenos días.\n",
      "1                          Buenas tardes.\n",
      "2                          Buenas noches.\n",
      "3                    Hola, me llamo Juan.\n",
      "4                   ¿Cómo se llama usted?\n",
      "5                       ¿Cómo está usted?\n",
      "6                             Estoy bien.\n",
      "7                            Mucho gusto.\n",
      "8                                  Adiós.\n",
      "9                            Hasta luego.\n",
      "10    Estoy perdido. ¿Dónde está el baño?\n",
      "11              Con permiso. OR Perdóname\n",
      "12                             Por favor.\n",
      "13                               Gracías.\n",
      "14                             Lo siento.\n",
      "15                                 Salud.\n",
      "16                               De nada.\n",
      "17                        ¿Cuánto cuesta?\n",
      "18                          ¿Cuántos hay?\n",
      "19                            Hay muchos.\n",
      "20               ¿Quiere comprarlo usted?\n",
      "21                          ¿Qué hora es?\n",
      "22        ¿Cómo se dice maybe en Español?\n",
      "23                                    Sí.\n",
      "24                                    No.\n",
      "25                       Yo no comprendo.\n",
      "26         Por favor, habla mas despacio.\n",
      "27                                ¿Quièn?\n",
      "28                              ¿Por què?\n",
      "Name: Spanish, dtype: object, u'English': 0                         Good morning.\n",
      "1                       Good afternoon.\n",
      "2              Good evening. (greeting)\n",
      "3               Hello, my name is John.\n",
      "4                    What is your name?\n",
      "5                          How are you?\n",
      "6                            I am fine.\n",
      "7                     Nice to meet you.\n",
      "8                              Goodbye.\n",
      "9                        See you later.\n",
      "10    I am lost. Where is the restroom?\n",
      "11                           Excuse me.\n",
      "12                              Please.\n",
      "13                           Thank you.\n",
      "14                           I'm sorry.\n",
      "15                           Bless you.\n",
      "16    You are welcome (it was nothing).\n",
      "17               How much does it cost?\n",
      "18                  How many are there?\n",
      "19                      There are many.\n",
      "20             Do you want to buy this?\n",
      "21                     What time is it?\n",
      "22     How do you say maybe in Spanish?\n",
      "23                                 Yes.\n",
      "24                                  No.\n",
      "25                 I do not understand.\n",
      "26      Would you speak slower, please.\n",
      "27                                 Who?\n",
      "28                                 Why?\n",
      "Name: English, dtype: object}\n"
     ]
    }
   ],
   "source": [
    "print text"
   ]
  },
  {
   "cell_type": "code",
   "execution_count": null,
   "metadata": {
    "collapsed": true
   },
   "outputs": [],
   "source": []
  },
  {
   "cell_type": "code",
   "execution_count": 13,
   "metadata": {
    "collapsed": false
   },
   "outputs": [
    {
     "name": "stdout",
     "output_type": "stream",
     "text": [
      "Buenos días.\n"
     ]
    }
   ],
   "source": [
    "t = df.loc[0,'Spanish']\n",
    "print t"
   ]
  },
  {
   "cell_type": "code",
   "execution_count": 14,
   "metadata": {
    "collapsed": false
   },
   "outputs": [],
   "source": [
    "translate_client = translate.Client(credentials=api_key)"
   ]
  },
  {
   "cell_type": "code",
   "execution_count": 64,
   "metadata": {
    "collapsed": false
   },
   "outputs": [
    {
     "name": "stdout",
     "output_type": "stream",
     "text": [
      "Help on package google.cloud.translate in google.cloud:\n",
      "\n",
      "NAME\n",
      "    google.cloud.translate - Google Cloud Translation API wrapper.\n",
      "\n",
      "FILE\n",
      "    /Users/Jeremy/anaconda/lib/python2.7/site-packages/google/cloud/translate/__init__.py\n",
      "\n",
      "PACKAGE CONTENTS\n",
      "    _http\n",
      "    client\n",
      "\n",
      "CLASSES\n",
      "    google.cloud.client.Client(google.cloud.client._ClientFactoryMixin)\n",
      "        google.cloud.translate.client.Client\n",
      "    \n",
      "    class Client(google.cloud.client.Client)\n",
      "     |  Client to bundle configuration needed for API requests.\n",
      "     |  \n",
      "     |  :type target_language: str\n",
      "     |  :param target_language: (Optional) The target language used for\n",
      "     |                          translations and language names. (Defaults to\n",
      "     |                          :data:`ENGLISH_ISO_639`.)\n",
      "     |  \n",
      "     |  :type credentials: :class:`~google.auth.credentials.Credentials`\n",
      "     |  :param credentials: (Optional) The OAuth2 Credentials to use for this\n",
      "     |                      client. If not passed (and if no ``_http`` object is\n",
      "     |                      passed), falls back to the default inferred from the\n",
      "     |                      environment.\n",
      "     |  \n",
      "     |  :type _http: :class:`~httplib2.Http`\n",
      "     |  :param _http: (Optional) HTTP object to make requests. Can be any object\n",
      "     |                that defines ``request()`` with the same interface as\n",
      "     |                :meth:`~httplib2.Http.request`. If not passed, an\n",
      "     |                ``_http`` object is created that is bound to the\n",
      "     |                ``credentials`` for the current object.\n",
      "     |                This parameter should be considered private, and could\n",
      "     |                change in the future.\n",
      "     |  \n",
      "     |  Method resolution order:\n",
      "     |      Client\n",
      "     |      google.cloud.client.Client\n",
      "     |      google.cloud.client._ClientFactoryMixin\n",
      "     |      __builtin__.object\n",
      "     |  \n",
      "     |  Methods defined here:\n",
      "     |  \n",
      "     |  __init__(self, target_language='en', credentials=None, _http=None)\n",
      "     |  \n",
      "     |  detect_language(self, values)\n",
      "     |      Detect the language of a string or list of strings.\n",
      "     |      \n",
      "     |      See: https://cloud.google.com/translate/docs/detecting-language\n",
      "     |      \n",
      "     |      :type values: str or list\n",
      "     |      :param values: String or list of strings that will have\n",
      "     |                     language detected.\n",
      "     |      \n",
      "     |      :rtype: str or list\n",
      "     |      :returns: A list of dictionaries for each queried value. Each\n",
      "     |                dictionary typically contains three keys\n",
      "     |      \n",
      "     |                * ``confidence``: The confidence in language detection, a\n",
      "     |                  float between 0 and 1.\n",
      "     |                * ``input``: The corresponding input value.\n",
      "     |                * ``language``: The detected language (as an ISO 639-1\n",
      "     |                  language code).\n",
      "     |      \n",
      "     |                though the key ``confidence`` may not always be present.\n",
      "     |      \n",
      "     |                If only a single value is passed, then only a single\n",
      "     |                dictionary will be returned.\n",
      "     |      :raises: :class:`ValueError <exceptions.ValueError>` if the number of\n",
      "     |               detections is not equal to the number of values.\n",
      "     |               :class:`ValueError <exceptions.ValueError>` if a value\n",
      "     |               produces a list of detections with 0 or multiple results\n",
      "     |               in it.\n",
      "     |  \n",
      "     |  get_languages(self, target_language=None)\n",
      "     |      Get list of supported languages for translation.\n",
      "     |      \n",
      "     |      Response\n",
      "     |      \n",
      "     |      See:\n",
      "     |      https://cloud.google.com/translate/docs/discovering-supported-languages\n",
      "     |      \n",
      "     |      :type target_language: str\n",
      "     |      :param target_language: (Optional) The language used to localize\n",
      "     |                              returned language names. Defaults to the\n",
      "     |                              target language on the current client.\n",
      "     |      \n",
      "     |      :rtype: list\n",
      "     |      :returns: List of dictionaries. Each dictionary contains a supported\n",
      "     |                ISO 639-1 language code (using the dictionary key\n",
      "     |                ``language``). If ``target_language`` is passed, each\n",
      "     |                dictionary will also contain the name of each supported\n",
      "     |                language (localized to the target language).\n",
      "     |  \n",
      "     |  translate(self, values, target_language=None, format_=None, source_language=None, customization_ids=(), model=None)\n",
      "     |      Translate a string or list of strings.\n",
      "     |      \n",
      "     |      See: https://cloud.google.com/translate/docs/translating-text\n",
      "     |      \n",
      "     |      :type values: str or list\n",
      "     |      :param values: String or list of strings to translate.\n",
      "     |      \n",
      "     |      :type target_language: str\n",
      "     |      :param target_language: The language to translate results into. This\n",
      "     |                              is required by the API and defaults to\n",
      "     |                              the target language of the current instance.\n",
      "     |      \n",
      "     |      :type format_: str\n",
      "     |      :param format_: (Optional) One of ``text`` or ``html``, to specify\n",
      "     |                      if the input text is plain text or HTML.\n",
      "     |      \n",
      "     |      :type source_language: str\n",
      "     |      :param source_language: (Optional) The language of the text to\n",
      "     |                              be translated.\n",
      "     |      \n",
      "     |      :type customization_ids: str or list\n",
      "     |      :param customization_ids: (Optional) ID or list of customization IDs\n",
      "     |                                for translation. Sets the ``cid`` parameter\n",
      "     |                                in the query.\n",
      "     |      \n",
      "     |      :type model: str\n",
      "     |      :param model: (Optional) The model used to translate the text. The\n",
      "     |                    only accepted values are :attr:`BASE` and :attr:`NMT`.\n",
      "     |      \n",
      "     |      :rtype: str or list\n",
      "     |      :returns: A list of dictionaries for each queried value. Each\n",
      "     |                dictionary typically contains three keys (though not\n",
      "     |                all will be present in all cases)\n",
      "     |      \n",
      "     |                * ``detectedSourceLanguage``: The detected language (as an\n",
      "     |                  ISO 639-1 language code) of the text.\n",
      "     |                * ``translatedText``: The translation of the text into the\n",
      "     |                  target language.\n",
      "     |                * ``input``: The corresponding input value.\n",
      "     |                * ``model``: The model used to translate the text.\n",
      "     |      \n",
      "     |                If only a single value is passed, then only a single\n",
      "     |                dictionary will be returned.\n",
      "     |      :raises: :class:`~exceptions.ValueError` if the number of\n",
      "     |               values and translations differ.\n",
      "     |  \n",
      "     |  ----------------------------------------------------------------------\n",
      "     |  Data and other attributes defined here:\n",
      "     |  \n",
      "     |  SCOPE = ('https://www.googleapis.com/auth/cloud-platform',)\n",
      "     |  \n",
      "     |  ----------------------------------------------------------------------\n",
      "     |  Methods inherited from google.cloud.client.Client:\n",
      "     |  \n",
      "     |  __getstate__(self)\n",
      "     |      Explicitly state that clients are not pickleable.\n",
      "     |  \n",
      "     |  ----------------------------------------------------------------------\n",
      "     |  Class methods inherited from google.cloud.client._ClientFactoryMixin:\n",
      "     |  \n",
      "     |  from_service_account_json(cls, json_credentials_path, *args, **kwargs) from __builtin__.type\n",
      "     |      Factory to retrieve JSON credentials while creating client.\n",
      "     |      \n",
      "     |      :type json_credentials_path: str\n",
      "     |      :param json_credentials_path: The path to a private key file (this file\n",
      "     |                                    was given to you when you created the\n",
      "     |                                    service account). This file must contain\n",
      "     |                                    a JSON object with a private key and\n",
      "     |                                    other credentials information (downloaded\n",
      "     |                                    from the Google APIs console).\n",
      "     |      \n",
      "     |      :type args: tuple\n",
      "     |      :param args: Remaining positional arguments to pass to constructor.\n",
      "     |      \n",
      "     |      :type kwargs: dict\n",
      "     |      :param kwargs: Remaining keyword arguments to pass to constructor.\n",
      "     |      \n",
      "     |      :rtype: :class:`google.cloud.pubsub.client.Client`\n",
      "     |      :returns: The client created with the retrieved JSON credentials.\n",
      "     |      :raises: :class:`TypeError` if there is a conflict with the kwargs\n",
      "     |               and the credentials created by the factory.\n",
      "     |  \n",
      "     |  ----------------------------------------------------------------------\n",
      "     |  Data descriptors inherited from google.cloud.client._ClientFactoryMixin:\n",
      "     |  \n",
      "     |  __dict__\n",
      "     |      dictionary for instance variables (if defined)\n",
      "     |  \n",
      "     |  __weakref__\n",
      "     |      list of weak references to the object (if defined)\n",
      "\n",
      "DATA\n",
      "    BASE = 'base'\n",
      "    NMT = 'nmt'\n",
      "    __all__ = ['__version__', 'BASE', 'Client', 'NMT']\n",
      "    __version__ = '0.24.0'\n",
      "\n",
      "VERSION\n",
      "    0.24.0\n",
      "\n",
      "\n"
     ]
    }
   ],
   "source": [
    "help(translate)"
   ]
  },
  {
   "cell_type": "code",
   "execution_count": 69,
   "metadata": {
    "collapsed": false
   },
   "outputs": [
    {
     "data": {
      "text/plain": [
       "<bound method Client.translate of <google.cloud.translate.client.Client object at 0x10b29ee50>>"
      ]
     },
     "execution_count": 69,
     "metadata": {},
     "output_type": "execute_result"
    }
   ],
   "source": [
    "translate_client._connection.api_request()"
   ]
  },
  {
   "cell_type": "code",
   "execution_count": 19,
   "metadata": {
    "collapsed": false
   },
   "outputs": [
    {
     "ename": "error",
     "evalue": "[Errno 61] Connection refused",
     "output_type": "error",
     "traceback": [
      "\u001b[0;31m---------------------------------------------------------------------------\u001b[0m",
      "\u001b[0;31merror\u001b[0m                                     Traceback (most recent call last)",
      "\u001b[0;32m<ipython-input-19-b1a33f266a17>\u001b[0m in \u001b[0;36m<module>\u001b[0;34m()\u001b[0m\n\u001b[0;32m----> 1\u001b[0;31m \u001b[0mtranslate_client\u001b[0m\u001b[0;34m.\u001b[0m\u001b[0mtranslate\u001b[0m\u001b[0;34m(\u001b[0m\u001b[0;34m\"pferde\"\u001b[0m\u001b[0;34m,\u001b[0m \u001b[0mtarget_language\u001b[0m\u001b[0;34m=\u001b[0m\u001b[0;34m'en'\u001b[0m\u001b[0;34m,\u001b[0m \u001b[0msource_language\u001b[0m\u001b[0;34m=\u001b[0m\u001b[0;34m'de'\u001b[0m\u001b[0;34m)\u001b[0m\u001b[0;34m\u001b[0m\u001b[0m\n\u001b[0m",
      "\u001b[0;32m/Users/Jeremy/anaconda/lib/python2.7/site-packages/google/cloud/translate/client.pyc\u001b[0m in \u001b[0;36mtranslate\u001b[0;34m(self, values, target_language, format_, source_language, customization_ids, model)\u001b[0m\n\u001b[1;32m    232\u001b[0m \u001b[0;34m\u001b[0m\u001b[0m\n\u001b[1;32m    233\u001b[0m         response = self._connection.api_request(\n\u001b[0;32m--> 234\u001b[0;31m             method='GET', path='', query_params=query_params)\n\u001b[0m\u001b[1;32m    235\u001b[0m \u001b[0;34m\u001b[0m\u001b[0m\n\u001b[1;32m    236\u001b[0m         \u001b[0mtranslations\u001b[0m \u001b[0;34m=\u001b[0m \u001b[0mresponse\u001b[0m\u001b[0;34m.\u001b[0m\u001b[0mget\u001b[0m\u001b[0;34m(\u001b[0m\u001b[0;34m'data'\u001b[0m\u001b[0;34m,\u001b[0m \u001b[0;34m{\u001b[0m\u001b[0;34m}\u001b[0m\u001b[0;34m)\u001b[0m\u001b[0;34m.\u001b[0m\u001b[0mget\u001b[0m\u001b[0;34m(\u001b[0m\u001b[0;34m'translations'\u001b[0m\u001b[0;34m,\u001b[0m \u001b[0;34m(\u001b[0m\u001b[0;34m)\u001b[0m\u001b[0;34m)\u001b[0m\u001b[0;34m\u001b[0m\u001b[0m\n",
      "\u001b[0;32m/Users/Jeremy/anaconda/lib/python2.7/site-packages/google/cloud/_http.pyc\u001b[0m in \u001b[0;36mapi_request\u001b[0;34m(self, method, path, query_params, data, content_type, headers, api_base_url, api_version, expect_json, _target_object)\u001b[0m\n\u001b[1;32m    297\u001b[0m         response, content = self._make_request(\n\u001b[1;32m    298\u001b[0m             \u001b[0mmethod\u001b[0m\u001b[0;34m=\u001b[0m\u001b[0mmethod\u001b[0m\u001b[0;34m,\u001b[0m \u001b[0murl\u001b[0m\u001b[0;34m=\u001b[0m\u001b[0murl\u001b[0m\u001b[0;34m,\u001b[0m \u001b[0mdata\u001b[0m\u001b[0;34m=\u001b[0m\u001b[0mdata\u001b[0m\u001b[0;34m,\u001b[0m \u001b[0mcontent_type\u001b[0m\u001b[0;34m=\u001b[0m\u001b[0mcontent_type\u001b[0m\u001b[0;34m,\u001b[0m\u001b[0;34m\u001b[0m\u001b[0m\n\u001b[0;32m--> 299\u001b[0;31m             headers=headers, target_object=_target_object)\n\u001b[0m\u001b[1;32m    300\u001b[0m \u001b[0;34m\u001b[0m\u001b[0m\n\u001b[1;32m    301\u001b[0m         \u001b[0;32mif\u001b[0m \u001b[0;32mnot\u001b[0m \u001b[0;36m200\u001b[0m \u001b[0;34m<=\u001b[0m \u001b[0mresponse\u001b[0m\u001b[0;34m.\u001b[0m\u001b[0mstatus\u001b[0m \u001b[0;34m<\u001b[0m \u001b[0;36m300\u001b[0m\u001b[0;34m:\u001b[0m\u001b[0;34m\u001b[0m\u001b[0m\n",
      "\u001b[0;32m/Users/Jeremy/anaconda/lib/python2.7/site-packages/google/cloud/_http.pyc\u001b[0m in \u001b[0;36m_make_request\u001b[0;34m(self, method, url, data, content_type, headers, target_object)\u001b[0m\n\u001b[1;32m    191\u001b[0m         \u001b[0mheaders\u001b[0m\u001b[0;34m[\u001b[0m\u001b[0;34m'User-Agent'\u001b[0m\u001b[0;34m]\u001b[0m \u001b[0;34m=\u001b[0m \u001b[0mself\u001b[0m\u001b[0;34m.\u001b[0m\u001b[0mUSER_AGENT\u001b[0m\u001b[0;34m\u001b[0m\u001b[0m\n\u001b[1;32m    192\u001b[0m \u001b[0;34m\u001b[0m\u001b[0m\n\u001b[0;32m--> 193\u001b[0;31m         \u001b[0;32mreturn\u001b[0m \u001b[0mself\u001b[0m\u001b[0;34m.\u001b[0m\u001b[0m_do_request\u001b[0m\u001b[0;34m(\u001b[0m\u001b[0mmethod\u001b[0m\u001b[0;34m,\u001b[0m \u001b[0murl\u001b[0m\u001b[0;34m,\u001b[0m \u001b[0mheaders\u001b[0m\u001b[0;34m,\u001b[0m \u001b[0mdata\u001b[0m\u001b[0;34m,\u001b[0m \u001b[0mtarget_object\u001b[0m\u001b[0;34m)\u001b[0m\u001b[0;34m\u001b[0m\u001b[0m\n\u001b[0m\u001b[1;32m    194\u001b[0m \u001b[0;34m\u001b[0m\u001b[0m\n\u001b[1;32m    195\u001b[0m     def _do_request(self, method, url, headers, data,\n",
      "\u001b[0;32m/Users/Jeremy/anaconda/lib/python2.7/site-packages/google/cloud/_http.pyc\u001b[0m in \u001b[0;36m_do_request\u001b[0;34m(self, method, url, headers, data, target_object)\u001b[0m\n\u001b[1;32m    221\u001b[0m         \"\"\"\n\u001b[1;32m    222\u001b[0m         return self.http.request(uri=url, method=method, headers=headers,\n\u001b[0;32m--> 223\u001b[0;31m                                  body=data)\n\u001b[0m\u001b[1;32m    224\u001b[0m \u001b[0;34m\u001b[0m\u001b[0m\n\u001b[1;32m    225\u001b[0m     def api_request(self, method, path, query_params=None,\n",
      "\u001b[0;32m/Users/Jeremy/anaconda/lib/python2.7/site-packages/google_auth_httplib2.pyc\u001b[0m in \u001b[0;36mrequest\u001b[0;34m(self, uri, method, body, headers, **kwargs)\u001b[0m\n\u001b[1;32m    185\u001b[0m \u001b[0;34m\u001b[0m\u001b[0m\n\u001b[1;32m    186\u001b[0m         self.credentials.before_request(\n\u001b[0;32m--> 187\u001b[0;31m             self._request, method, uri, request_headers)\n\u001b[0m\u001b[1;32m    188\u001b[0m \u001b[0;34m\u001b[0m\u001b[0m\n\u001b[1;32m    189\u001b[0m         \u001b[0;31m# Check if the body is a file-like stream, and if so, save the body\u001b[0m\u001b[0;34m\u001b[0m\u001b[0;34m\u001b[0m\u001b[0m\n",
      "\u001b[0;32m/Users/Jeremy/anaconda/lib/python2.7/site-packages/google/auth/credentials.pyc\u001b[0m in \u001b[0;36mbefore_request\u001b[0;34m(self, request, method, url, headers)\u001b[0m\n\u001b[1;32m    119\u001b[0m         \u001b[0;31m# the http request.)\u001b[0m\u001b[0;34m\u001b[0m\u001b[0;34m\u001b[0m\u001b[0m\n\u001b[1;32m    120\u001b[0m         \u001b[0;32mif\u001b[0m \u001b[0;32mnot\u001b[0m \u001b[0mself\u001b[0m\u001b[0;34m.\u001b[0m\u001b[0mvalid\u001b[0m\u001b[0;34m:\u001b[0m\u001b[0;34m\u001b[0m\u001b[0m\n\u001b[0;32m--> 121\u001b[0;31m             \u001b[0mself\u001b[0m\u001b[0;34m.\u001b[0m\u001b[0mrefresh\u001b[0m\u001b[0;34m(\u001b[0m\u001b[0mrequest\u001b[0m\u001b[0;34m)\u001b[0m\u001b[0;34m\u001b[0m\u001b[0m\n\u001b[0m\u001b[1;32m    122\u001b[0m         \u001b[0mself\u001b[0m\u001b[0;34m.\u001b[0m\u001b[0mapply\u001b[0m\u001b[0;34m(\u001b[0m\u001b[0mheaders\u001b[0m\u001b[0;34m)\u001b[0m\u001b[0;34m\u001b[0m\u001b[0m\n\u001b[1;32m    123\u001b[0m \u001b[0;34m\u001b[0m\u001b[0m\n",
      "\u001b[0;32m/Users/Jeremy/anaconda/lib/python2.7/site-packages/google/oauth2/service_account.pyc\u001b[0m in \u001b[0;36mrefresh\u001b[0;34m(self, request)\u001b[0m\n\u001b[1;32m    308\u001b[0m         \u001b[0massertion\u001b[0m \u001b[0;34m=\u001b[0m \u001b[0mself\u001b[0m\u001b[0;34m.\u001b[0m\u001b[0m_make_authorization_grant_assertion\u001b[0m\u001b[0;34m(\u001b[0m\u001b[0;34m)\u001b[0m\u001b[0;34m\u001b[0m\u001b[0m\n\u001b[1;32m    309\u001b[0m         access_token, expiry, _ = _client.jwt_grant(\n\u001b[0;32m--> 310\u001b[0;31m             request, self._token_uri, assertion)\n\u001b[0m\u001b[1;32m    311\u001b[0m         \u001b[0mself\u001b[0m\u001b[0;34m.\u001b[0m\u001b[0mtoken\u001b[0m \u001b[0;34m=\u001b[0m \u001b[0maccess_token\u001b[0m\u001b[0;34m\u001b[0m\u001b[0m\n\u001b[1;32m    312\u001b[0m         \u001b[0mself\u001b[0m\u001b[0;34m.\u001b[0m\u001b[0mexpiry\u001b[0m \u001b[0;34m=\u001b[0m \u001b[0mexpiry\u001b[0m\u001b[0;34m\u001b[0m\u001b[0m\n",
      "\u001b[0;32m/Users/Jeremy/anaconda/lib/python2.7/site-packages/google/oauth2/_client.pyc\u001b[0m in \u001b[0;36mjwt_grant\u001b[0;34m(request, token_uri, assertion)\u001b[0m\n\u001b[1;32m    141\u001b[0m     }\n\u001b[1;32m    142\u001b[0m \u001b[0;34m\u001b[0m\u001b[0m\n\u001b[0;32m--> 143\u001b[0;31m     \u001b[0mresponse_data\u001b[0m \u001b[0;34m=\u001b[0m \u001b[0m_token_endpoint_request\u001b[0m\u001b[0;34m(\u001b[0m\u001b[0mrequest\u001b[0m\u001b[0;34m,\u001b[0m \u001b[0mtoken_uri\u001b[0m\u001b[0;34m,\u001b[0m \u001b[0mbody\u001b[0m\u001b[0;34m)\u001b[0m\u001b[0;34m\u001b[0m\u001b[0m\n\u001b[0m\u001b[1;32m    144\u001b[0m \u001b[0;34m\u001b[0m\u001b[0m\n\u001b[1;32m    145\u001b[0m     \u001b[0;32mtry\u001b[0m\u001b[0;34m:\u001b[0m\u001b[0;34m\u001b[0m\u001b[0m\n",
      "\u001b[0;32m/Users/Jeremy/anaconda/lib/python2.7/site-packages/google/oauth2/_client.pyc\u001b[0m in \u001b[0;36m_token_endpoint_request\u001b[0;34m(request, token_uri, body)\u001b[0m\n\u001b[1;32m    102\u001b[0m \u001b[0;34m\u001b[0m\u001b[0m\n\u001b[1;32m    103\u001b[0m     response = request(\n\u001b[0;32m--> 104\u001b[0;31m         method='POST', url=token_uri, headers=headers, body=body)\n\u001b[0m\u001b[1;32m    105\u001b[0m \u001b[0;34m\u001b[0m\u001b[0m\n\u001b[1;32m    106\u001b[0m     \u001b[0mresponse_body\u001b[0m \u001b[0;34m=\u001b[0m \u001b[0mresponse\u001b[0m\u001b[0;34m.\u001b[0m\u001b[0mdata\u001b[0m\u001b[0;34m.\u001b[0m\u001b[0mdecode\u001b[0m\u001b[0;34m(\u001b[0m\u001b[0;34m'utf-8'\u001b[0m\u001b[0;34m)\u001b[0m\u001b[0;34m\u001b[0m\u001b[0m\n",
      "\u001b[0;32m/Users/Jeremy/anaconda/lib/python2.7/site-packages/google_auth_httplib2.pyc\u001b[0m in \u001b[0;36m__call__\u001b[0;34m(self, url, method, body, headers, timeout, **kwargs)\u001b[0m\n\u001b[1;32m    114\u001b[0m             \u001b[0m_LOGGER\u001b[0m\u001b[0;34m.\u001b[0m\u001b[0mdebug\u001b[0m\u001b[0;34m(\u001b[0m\u001b[0;34m'Making request: %s %s'\u001b[0m\u001b[0;34m,\u001b[0m \u001b[0mmethod\u001b[0m\u001b[0;34m,\u001b[0m \u001b[0murl\u001b[0m\u001b[0;34m)\u001b[0m\u001b[0;34m\u001b[0m\u001b[0m\n\u001b[1;32m    115\u001b[0m             response, data = self.http.request(\n\u001b[0;32m--> 116\u001b[0;31m                 url, method=method, body=body, headers=headers, **kwargs)\n\u001b[0m\u001b[1;32m    117\u001b[0m             \u001b[0;32mreturn\u001b[0m \u001b[0m_Response\u001b[0m\u001b[0;34m(\u001b[0m\u001b[0mresponse\u001b[0m\u001b[0;34m,\u001b[0m \u001b[0mdata\u001b[0m\u001b[0;34m)\u001b[0m\u001b[0;34m\u001b[0m\u001b[0m\n\u001b[1;32m    118\u001b[0m         \u001b[0;32mexcept\u001b[0m \u001b[0mhttplib2\u001b[0m\u001b[0;34m.\u001b[0m\u001b[0mHttpLib2Error\u001b[0m \u001b[0;32mas\u001b[0m \u001b[0mexc\u001b[0m\u001b[0;34m:\u001b[0m\u001b[0;34m\u001b[0m\u001b[0m\n",
      "\u001b[0;32m/Users/Jeremy/anaconda/lib/python2.7/site-packages/httplib2/__init__.pyc\u001b[0m in \u001b[0;36mrequest\u001b[0;34m(self, uri, method, body, headers, redirections, connection_type)\u001b[0m\n\u001b[1;32m   1657\u001b[0m                     \u001b[0mcontent\u001b[0m \u001b[0;34m=\u001b[0m \u001b[0;34m\"\"\u001b[0m\u001b[0;34m\u001b[0m\u001b[0m\n\u001b[1;32m   1658\u001b[0m                 \u001b[0;32melse\u001b[0m\u001b[0;34m:\u001b[0m\u001b[0;34m\u001b[0m\u001b[0m\n\u001b[0;32m-> 1659\u001b[0;31m                     \u001b[0;34m(\u001b[0m\u001b[0mresponse\u001b[0m\u001b[0;34m,\u001b[0m \u001b[0mcontent\u001b[0m\u001b[0;34m)\u001b[0m \u001b[0;34m=\u001b[0m \u001b[0mself\u001b[0m\u001b[0;34m.\u001b[0m\u001b[0m_request\u001b[0m\u001b[0;34m(\u001b[0m\u001b[0mconn\u001b[0m\u001b[0;34m,\u001b[0m \u001b[0mauthority\u001b[0m\u001b[0;34m,\u001b[0m \u001b[0muri\u001b[0m\u001b[0;34m,\u001b[0m \u001b[0mrequest_uri\u001b[0m\u001b[0;34m,\u001b[0m \u001b[0mmethod\u001b[0m\u001b[0;34m,\u001b[0m \u001b[0mbody\u001b[0m\u001b[0;34m,\u001b[0m \u001b[0mheaders\u001b[0m\u001b[0;34m,\u001b[0m \u001b[0mredirections\u001b[0m\u001b[0;34m,\u001b[0m \u001b[0mcachekey\u001b[0m\u001b[0;34m)\u001b[0m\u001b[0;34m\u001b[0m\u001b[0m\n\u001b[0m\u001b[1;32m   1660\u001b[0m         \u001b[0;32mexcept\u001b[0m \u001b[0mException\u001b[0m\u001b[0;34m,\u001b[0m \u001b[0me\u001b[0m\u001b[0;34m:\u001b[0m\u001b[0;34m\u001b[0m\u001b[0m\n\u001b[1;32m   1661\u001b[0m             \u001b[0;32mif\u001b[0m \u001b[0mself\u001b[0m\u001b[0;34m.\u001b[0m\u001b[0mforce_exception_to_status_code\u001b[0m\u001b[0;34m:\u001b[0m\u001b[0;34m\u001b[0m\u001b[0m\n",
      "\u001b[0;32m/Users/Jeremy/anaconda/lib/python2.7/site-packages/httplib2/__init__.pyc\u001b[0m in \u001b[0;36m_request\u001b[0;34m(self, conn, host, absolute_uri, request_uri, method, body, headers, redirections, cachekey)\u001b[0m\n\u001b[1;32m   1397\u001b[0m             \u001b[0mauth\u001b[0m\u001b[0;34m.\u001b[0m\u001b[0mrequest\u001b[0m\u001b[0;34m(\u001b[0m\u001b[0mmethod\u001b[0m\u001b[0;34m,\u001b[0m \u001b[0mrequest_uri\u001b[0m\u001b[0;34m,\u001b[0m \u001b[0mheaders\u001b[0m\u001b[0;34m,\u001b[0m \u001b[0mbody\u001b[0m\u001b[0;34m)\u001b[0m\u001b[0;34m\u001b[0m\u001b[0m\n\u001b[1;32m   1398\u001b[0m \u001b[0;34m\u001b[0m\u001b[0m\n\u001b[0;32m-> 1399\u001b[0;31m         \u001b[0;34m(\u001b[0m\u001b[0mresponse\u001b[0m\u001b[0;34m,\u001b[0m \u001b[0mcontent\u001b[0m\u001b[0;34m)\u001b[0m \u001b[0;34m=\u001b[0m \u001b[0mself\u001b[0m\u001b[0;34m.\u001b[0m\u001b[0m_conn_request\u001b[0m\u001b[0;34m(\u001b[0m\u001b[0mconn\u001b[0m\u001b[0;34m,\u001b[0m \u001b[0mrequest_uri\u001b[0m\u001b[0;34m,\u001b[0m \u001b[0mmethod\u001b[0m\u001b[0;34m,\u001b[0m \u001b[0mbody\u001b[0m\u001b[0;34m,\u001b[0m \u001b[0mheaders\u001b[0m\u001b[0;34m)\u001b[0m\u001b[0;34m\u001b[0m\u001b[0m\n\u001b[0m\u001b[1;32m   1400\u001b[0m \u001b[0;34m\u001b[0m\u001b[0m\n\u001b[1;32m   1401\u001b[0m         \u001b[0;32mif\u001b[0m \u001b[0mauth\u001b[0m\u001b[0;34m:\u001b[0m\u001b[0;34m\u001b[0m\u001b[0m\n",
      "\u001b[0;32m/Users/Jeremy/anaconda/lib/python2.7/site-packages/httplib2/__init__.pyc\u001b[0m in \u001b[0;36m_conn_request\u001b[0;34m(self, conn, request_uri, method, body, headers)\u001b[0m\n\u001b[1;32m   1317\u001b[0m             \u001b[0;32mtry\u001b[0m\u001b[0;34m:\u001b[0m\u001b[0;34m\u001b[0m\u001b[0m\n\u001b[1;32m   1318\u001b[0m                 \u001b[0;32mif\u001b[0m \u001b[0mhasattr\u001b[0m\u001b[0;34m(\u001b[0m\u001b[0mconn\u001b[0m\u001b[0;34m,\u001b[0m \u001b[0;34m'sock'\u001b[0m\u001b[0;34m)\u001b[0m \u001b[0;32mand\u001b[0m \u001b[0mconn\u001b[0m\u001b[0;34m.\u001b[0m\u001b[0msock\u001b[0m \u001b[0;32mis\u001b[0m \u001b[0mNone\u001b[0m\u001b[0;34m:\u001b[0m\u001b[0;34m\u001b[0m\u001b[0m\n\u001b[0;32m-> 1319\u001b[0;31m                     \u001b[0mconn\u001b[0m\u001b[0;34m.\u001b[0m\u001b[0mconnect\u001b[0m\u001b[0;34m(\u001b[0m\u001b[0;34m)\u001b[0m\u001b[0;34m\u001b[0m\u001b[0m\n\u001b[0m\u001b[1;32m   1320\u001b[0m                 \u001b[0mconn\u001b[0m\u001b[0;34m.\u001b[0m\u001b[0mrequest\u001b[0m\u001b[0;34m(\u001b[0m\u001b[0mmethod\u001b[0m\u001b[0;34m,\u001b[0m \u001b[0mrequest_uri\u001b[0m\u001b[0;34m,\u001b[0m \u001b[0mbody\u001b[0m\u001b[0;34m,\u001b[0m \u001b[0mheaders\u001b[0m\u001b[0;34m)\u001b[0m\u001b[0;34m\u001b[0m\u001b[0m\n\u001b[1;32m   1321\u001b[0m             \u001b[0;32mexcept\u001b[0m \u001b[0msocket\u001b[0m\u001b[0;34m.\u001b[0m\u001b[0mtimeout\u001b[0m\u001b[0;34m:\u001b[0m\u001b[0;34m\u001b[0m\u001b[0m\n",
      "\u001b[0;32m/Users/Jeremy/anaconda/lib/python2.7/site-packages/httplib2/__init__.pyc\u001b[0m in \u001b[0;36mconnect\u001b[0;34m(self)\u001b[0m\n\u001b[1;32m   1106\u001b[0m             \u001b[0;32mbreak\u001b[0m\u001b[0;34m\u001b[0m\u001b[0m\n\u001b[1;32m   1107\u001b[0m         \u001b[0;32mif\u001b[0m \u001b[0;32mnot\u001b[0m \u001b[0mself\u001b[0m\u001b[0;34m.\u001b[0m\u001b[0msock\u001b[0m\u001b[0;34m:\u001b[0m\u001b[0;34m\u001b[0m\u001b[0m\n\u001b[0;32m-> 1108\u001b[0;31m             \u001b[0;32mraise\u001b[0m \u001b[0msocket\u001b[0m\u001b[0;34m.\u001b[0m\u001b[0merror\u001b[0m\u001b[0;34m,\u001b[0m \u001b[0mmsg\u001b[0m\u001b[0;34m\u001b[0m\u001b[0m\n\u001b[0m\u001b[1;32m   1109\u001b[0m \u001b[0;34m\u001b[0m\u001b[0m\n\u001b[1;32m   1110\u001b[0m SCHEME_TO_CONNECTION = {\n",
      "\u001b[0;31merror\u001b[0m: [Errno 61] Connection refused"
     ]
    }
   ],
   "source": [
    "translate_client.translate(\"pferde\", target_language='en', source_language='de')"
   ]
  },
  {
   "cell_type": "code",
   "execution_count": 61,
   "metadata": {
    "collapsed": false
   },
   "outputs": [],
   "source": [
    "!unset http_proxy\n",
    "!unset https_proxy\n",
    "!unset HTTPS_PROXY\n",
    "!unset HTTP_PROXY"
   ]
  },
  {
   "cell_type": "code",
   "execution_count": 67,
   "metadata": {
    "collapsed": false
   },
   "outputs": [
    {
     "name": "stdout",
     "output_type": "stream",
     "text": [
      "^C\r\n"
     ]
    }
   ],
   "source": [
    "!curl google.com"
   ]
  },
  {
   "cell_type": "code",
   "execution_count": 18,
   "metadata": {
    "collapsed": false
   },
   "outputs": [
    {
     "name": "stdout",
     "output_type": "stream",
     "text": [
      "Help on class Client in module google.cloud.translate.client:\n",
      "\n",
      "class Client(google.cloud.client.Client)\n",
      " |  Client to bundle configuration needed for API requests.\n",
      " |  \n",
      " |  :type target_language: str\n",
      " |  :param target_language: (Optional) The target language used for\n",
      " |                          translations and language names. (Defaults to\n",
      " |                          :data:`ENGLISH_ISO_639`.)\n",
      " |  \n",
      " |  :type credentials: :class:`~google.auth.credentials.Credentials`\n",
      " |  :param credentials: (Optional) The OAuth2 Credentials to use for this\n",
      " |                      client. If not passed (and if no ``_http`` object is\n",
      " |                      passed), falls back to the default inferred from the\n",
      " |                      environment.\n",
      " |  \n",
      " |  :type _http: :class:`~httplib2.Http`\n",
      " |  :param _http: (Optional) HTTP object to make requests. Can be any object\n",
      " |                that defines ``request()`` with the same interface as\n",
      " |                :meth:`~httplib2.Http.request`. If not passed, an\n",
      " |                ``_http`` object is created that is bound to the\n",
      " |                ``credentials`` for the current object.\n",
      " |                This parameter should be considered private, and could\n",
      " |                change in the future.\n",
      " |  \n",
      " |  Method resolution order:\n",
      " |      Client\n",
      " |      google.cloud.client.Client\n",
      " |      google.cloud.client._ClientFactoryMixin\n",
      " |      __builtin__.object\n",
      " |  \n",
      " |  Methods defined here:\n",
      " |  \n",
      " |  __init__(self, target_language='en', credentials=None, _http=None)\n",
      " |  \n",
      " |  detect_language(self, values)\n",
      " |      Detect the language of a string or list of strings.\n",
      " |      \n",
      " |      See: https://cloud.google.com/translate/docs/detecting-language\n",
      " |      \n",
      " |      :type values: str or list\n",
      " |      :param values: String or list of strings that will have\n",
      " |                     language detected.\n",
      " |      \n",
      " |      :rtype: str or list\n",
      " |      :returns: A list of dictionaries for each queried value. Each\n",
      " |                dictionary typically contains three keys\n",
      " |      \n",
      " |                * ``confidence``: The confidence in language detection, a\n",
      " |                  float between 0 and 1.\n",
      " |                * ``input``: The corresponding input value.\n",
      " |                * ``language``: The detected language (as an ISO 639-1\n",
      " |                  language code).\n",
      " |      \n",
      " |                though the key ``confidence`` may not always be present.\n",
      " |      \n",
      " |                If only a single value is passed, then only a single\n",
      " |                dictionary will be returned.\n",
      " |      :raises: :class:`ValueError <exceptions.ValueError>` if the number of\n",
      " |               detections is not equal to the number of values.\n",
      " |               :class:`ValueError <exceptions.ValueError>` if a value\n",
      " |               produces a list of detections with 0 or multiple results\n",
      " |               in it.\n",
      " |  \n",
      " |  get_languages(self, target_language=None)\n",
      " |      Get list of supported languages for translation.\n",
      " |      \n",
      " |      Response\n",
      " |      \n",
      " |      See:\n",
      " |      https://cloud.google.com/translate/docs/discovering-supported-languages\n",
      " |      \n",
      " |      :type target_language: str\n",
      " |      :param target_language: (Optional) The language used to localize\n",
      " |                              returned language names. Defaults to the\n",
      " |                              target language on the current client.\n",
      " |      \n",
      " |      :rtype: list\n",
      " |      :returns: List of dictionaries. Each dictionary contains a supported\n",
      " |                ISO 639-1 language code (using the dictionary key\n",
      " |                ``language``). If ``target_language`` is passed, each\n",
      " |                dictionary will also contain the name of each supported\n",
      " |                language (localized to the target language).\n",
      " |  \n",
      " |  translate(self, values, target_language=None, format_=None, source_language=None, customization_ids=(), model=None)\n",
      " |      Translate a string or list of strings.\n",
      " |      \n",
      " |      See: https://cloud.google.com/translate/docs/translating-text\n",
      " |      \n",
      " |      :type values: str or list\n",
      " |      :param values: String or list of strings to translate.\n",
      " |      \n",
      " |      :type target_language: str\n",
      " |      :param target_language: The language to translate results into. This\n",
      " |                              is required by the API and defaults to\n",
      " |                              the target language of the current instance.\n",
      " |      \n",
      " |      :type format_: str\n",
      " |      :param format_: (Optional) One of ``text`` or ``html``, to specify\n",
      " |                      if the input text is plain text or HTML.\n",
      " |      \n",
      " |      :type source_language: str\n",
      " |      :param source_language: (Optional) The language of the text to\n",
      " |                              be translated.\n",
      " |      \n",
      " |      :type customization_ids: str or list\n",
      " |      :param customization_ids: (Optional) ID or list of customization IDs\n",
      " |                                for translation. Sets the ``cid`` parameter\n",
      " |                                in the query.\n",
      " |      \n",
      " |      :type model: str\n",
      " |      :param model: (Optional) The model used to translate the text. The\n",
      " |                    only accepted values are :attr:`BASE` and :attr:`NMT`.\n",
      " |      \n",
      " |      :rtype: str or list\n",
      " |      :returns: A list of dictionaries for each queried value. Each\n",
      " |                dictionary typically contains three keys (though not\n",
      " |                all will be present in all cases)\n",
      " |      \n",
      " |                * ``detectedSourceLanguage``: The detected language (as an\n",
      " |                  ISO 639-1 language code) of the text.\n",
      " |                * ``translatedText``: The translation of the text into the\n",
      " |                  target language.\n",
      " |                * ``input``: The corresponding input value.\n",
      " |                * ``model``: The model used to translate the text.\n",
      " |      \n",
      " |                If only a single value is passed, then only a single\n",
      " |                dictionary will be returned.\n",
      " |      :raises: :class:`~exceptions.ValueError` if the number of\n",
      " |               values and translations differ.\n",
      " |  \n",
      " |  ----------------------------------------------------------------------\n",
      " |  Data and other attributes defined here:\n",
      " |  \n",
      " |  SCOPE = ('https://www.googleapis.com/auth/cloud-platform',)\n",
      " |  \n",
      " |  ----------------------------------------------------------------------\n",
      " |  Methods inherited from google.cloud.client.Client:\n",
      " |  \n",
      " |  __getstate__(self)\n",
      " |      Explicitly state that clients are not pickleable.\n",
      " |  \n",
      " |  ----------------------------------------------------------------------\n",
      " |  Class methods inherited from google.cloud.client._ClientFactoryMixin:\n",
      " |  \n",
      " |  from_service_account_json(cls, json_credentials_path, *args, **kwargs) from __builtin__.type\n",
      " |      Factory to retrieve JSON credentials while creating client.\n",
      " |      \n",
      " |      :type json_credentials_path: str\n",
      " |      :param json_credentials_path: The path to a private key file (this file\n",
      " |                                    was given to you when you created the\n",
      " |                                    service account). This file must contain\n",
      " |                                    a JSON object with a private key and\n",
      " |                                    other credentials information (downloaded\n",
      " |                                    from the Google APIs console).\n",
      " |      \n",
      " |      :type args: tuple\n",
      " |      :param args: Remaining positional arguments to pass to constructor.\n",
      " |      \n",
      " |      :type kwargs: dict\n",
      " |      :param kwargs: Remaining keyword arguments to pass to constructor.\n",
      " |      \n",
      " |      :rtype: :class:`google.cloud.pubsub.client.Client`\n",
      " |      :returns: The client created with the retrieved JSON credentials.\n",
      " |      :raises: :class:`TypeError` if there is a conflict with the kwargs\n",
      " |               and the credentials created by the factory.\n",
      " |  \n",
      " |  ----------------------------------------------------------------------\n",
      " |  Data descriptors inherited from google.cloud.client._ClientFactoryMixin:\n",
      " |  \n",
      " |  __dict__\n",
      " |      dictionary for instance variables (if defined)\n",
      " |  \n",
      " |  __weakref__\n",
      " |      list of weak references to the object (if defined)\n",
      "\n"
     ]
    }
   ],
   "source": [
    "help(translate.Client)"
   ]
  },
  {
   "cell_type": "code",
   "execution_count": 28,
   "metadata": {
    "collapsed": true
   },
   "outputs": [],
   "source": [
    "import google.auth"
   ]
  },
  {
   "cell_type": "code",
   "execution_count": 33,
   "metadata": {
    "collapsed": true
   },
   "outputs": [],
   "source": [
    "!export GOOGLE_APPLICATION_CREDENTIALS=/Users/Jeremy/Documents/JeremyIndoTran-e20d64f5ca5b.json"
   ]
  },
  {
   "cell_type": "code",
   "execution_count": 34,
   "metadata": {
    "collapsed": false
   },
   "outputs": [
    {
     "ename": "DefaultCredentialsError",
     "evalue": "Could not automatically determine credentials. Please set GOOGLE_APPLICATION_CREDENTIALS or\nexplicitly create credential and re-run the application. For more\ninformation, please see\nhttps://developers.google.com/accounts/docs/application-default-credentials.",
     "output_type": "error",
     "traceback": [
      "\u001b[0;31m---------------------------------------------------------------------------\u001b[0m",
      "\u001b[0;31mDefaultCredentialsError\u001b[0m                   Traceback (most recent call last)",
      "\u001b[0;32m<ipython-input-34-c9b40a61b060>\u001b[0m in \u001b[0;36m<module>\u001b[0;34m()\u001b[0m\n\u001b[0;32m----> 1\u001b[0;31m \u001b[0mgoogle\u001b[0m\u001b[0;34m.\u001b[0m\u001b[0mauth\u001b[0m\u001b[0;34m.\u001b[0m\u001b[0mdefault\u001b[0m\u001b[0;34m(\u001b[0m\u001b[0;34m)\u001b[0m\u001b[0;34m\u001b[0m\u001b[0m\n\u001b[0m",
      "\u001b[0;32m/Users/Jeremy/anaconda/lib/python2.7/site-packages/google/auth/_default.pyc\u001b[0m in \u001b[0;36mdefault\u001b[0;34m(scopes, request)\u001b[0m\n\u001b[1;32m    280\u001b[0m             \u001b[0;32mreturn\u001b[0m \u001b[0mcredentials\u001b[0m\u001b[0;34m,\u001b[0m \u001b[0mexplicit_project_id\u001b[0m \u001b[0;32mor\u001b[0m \u001b[0mproject_id\u001b[0m\u001b[0;34m\u001b[0m\u001b[0m\n\u001b[1;32m    281\u001b[0m \u001b[0;34m\u001b[0m\u001b[0m\n\u001b[0;32m--> 282\u001b[0;31m     \u001b[0;32mraise\u001b[0m \u001b[0mexceptions\u001b[0m\u001b[0;34m.\u001b[0m\u001b[0mDefaultCredentialsError\u001b[0m\u001b[0;34m(\u001b[0m\u001b[0m_HELP_MESSAGE\u001b[0m\u001b[0;34m)\u001b[0m\u001b[0;34m\u001b[0m\u001b[0m\n\u001b[0m",
      "\u001b[0;31mDefaultCredentialsError\u001b[0m: Could not automatically determine credentials. Please set GOOGLE_APPLICATION_CREDENTIALS or\nexplicitly create credential and re-run the application. For more\ninformation, please see\nhttps://developers.google.com/accounts/docs/application-default-credentials."
     ]
    }
   ],
   "source": [
    "google.auth.default()"
   ]
  },
  {
   "cell_type": "code",
   "execution_count": null,
   "metadata": {
    "collapsed": false
   },
   "outputs": [],
   "source": [
    "!env"
   ]
  },
  {
   "cell_type": "code",
   "execution_count": 92,
   "metadata": {
    "collapsed": true
   },
   "outputs": [],
   "source": [
    "s = \"once **& upon a ..# time in 99327 lando\""
   ]
  },
  {
   "cell_type": "code",
   "execution_count": 93,
   "metadata": {
    "collapsed": false
   },
   "outputs": [
    {
     "data": {
      "text/plain": [
       "['once', '**&', 'upon', 'a', '..#', 'time', 'in', '99327', 'lando']"
      ]
     },
     "execution_count": 93,
     "metadata": {},
     "output_type": "execute_result"
    }
   ],
   "source": [
    "s.split(' ')"
   ]
  },
  {
   "cell_type": "code",
   "execution_count": null,
   "metadata": {
    "collapsed": true
   },
   "outputs": [],
   "source": [
    "def is_number(s):\n",
    "    try:\n",
    "        float(s)\n",
    "        return True\n",
    "    except ValueError:\n",
    "        return False"
   ]
  },
  {
   "cell_type": "code",
   "execution_count": null,
   "metadata": {
    "collapsed": true
   },
   "outputs": [],
   "source": []
  },
  {
   "cell_type": "code",
   "execution_count": null,
   "metadata": {
    "collapsed": true
   },
   "outputs": [],
   "source": []
  },
  {
   "cell_type": "code",
   "execution_count": null,
   "metadata": {
    "collapsed": true
   },
   "outputs": [],
   "source": []
  }
 ],
 "metadata": {
  "kernelspec": {
   "display_name": "Python 2",
   "language": "python",
   "name": "python2"
  },
  "language_info": {
   "codemirror_mode": {
    "name": "ipython",
    "version": 2
   },
   "file_extension": ".py",
   "mimetype": "text/x-python",
   "name": "python",
   "nbconvert_exporter": "python",
   "pygments_lexer": "ipython2",
   "version": "2.7.12"
  }
 },
 "nbformat": 4,
 "nbformat_minor": 0
}
