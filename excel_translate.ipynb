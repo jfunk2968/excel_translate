{
 "cells": [
  {
   "cell_type": "code",
   "execution_count": 1,
   "metadata": {
    "collapsed": false
   },
   "outputs": [],
   "source": [
    "import pandas as pd\n",
    "from openpyxl import Workbook\n",
    "from openpyxl import load_workbook\n",
    "from google.cloud import translate\n",
    "import google.auth\n",
    "import itertools"
   ]
  },
  {
   "cell_type": "code",
   "execution_count": 4,
   "metadata": {
    "collapsed": false
   },
   "outputs": [
    {
     "data": {
      "text/plain": [
       "\"\\ncheck for repeated values - don't want to google the same value over and over\\n\\ncheck list of column headers and translate\\n\\nallow for list of columns to exclude/translate\\n\\ncheck for uniqueness of columns to treat text and 'codes' separately\\n\\n\\n\""
      ]
     },
     "execution_count": 4,
     "metadata": {},
     "output_type": "execute_result"
    }
   ],
   "source": [
    "\"\"\"\n",
    "check for repeated values - don't want to google the same value over and over\n",
    "\n",
    "check list of column headers and translate\n",
    "\n",
    "allow for list of columns to exclude/translate\n",
    "\n",
    "check for uniqueness of columns to treat text and 'codes' separately\n",
    "\n",
    "\n",
    "\"\"\""
   ]
  },
  {
   "cell_type": "code",
   "execution_count": 2,
   "metadata": {
    "collapsed": false
   },
   "outputs": [
    {
     "name": "stderr",
     "output_type": "stream",
     "text": [
      "/Users/Jeremy/anaconda/lib/python2.7/site-packages/openpyxl/reader/worksheet.py:307: UserWarning: Unknown extension is not supported and will be removed\n",
      "  warn(msg)\n"
     ]
    }
   ],
   "source": [
    "wb = load_workbook(\"test.xlsx\")"
   ]
  },
  {
   "cell_type": "code",
   "execution_count": 3,
   "metadata": {
    "collapsed": false
   },
   "outputs": [
    {
     "name": "stdout",
     "output_type": "stream",
     "text": [
      "[u'Sheet1', u'Spanish']\n"
     ]
    }
   ],
   "source": [
    "print(wb.sheetnames)"
   ]
  },
  {
   "cell_type": "code",
   "execution_count": 4,
   "metadata": {
    "collapsed": false
   },
   "outputs": [],
   "source": [
    "ws = wb['Spanish']"
   ]
  },
  {
   "cell_type": "code",
   "execution_count": 5,
   "metadata": {
    "collapsed": true
   },
   "outputs": [
    {
     "name": "stdout",
     "output_type": "stream",
     "text": [
      "English\n",
      "Good morning.\n",
      "Good afternoon.\n",
      "Good evening. (greeting)\n",
      "Hello, my name is John.\n",
      "What is your name?\n",
      "How are you?\n",
      "I am fine.\n",
      "Nice to meet you.\n",
      "Goodbye.\n",
      "See you later.\n",
      "I am lost. Where is the restroom?\n",
      "Excuse me.\n",
      "Please.\n",
      "Thank you.\n",
      "I'm sorry.\n",
      "Bless you.\n",
      "You are welcome (it was nothing).\n",
      "How much does it cost?\n",
      "How many are there?\n",
      "There are many.\n",
      "Do you want to buy this?\n",
      "What time is it?\n",
      "How do you say maybe in Spanish?\n",
      "Yes.\n",
      "No.\n",
      "I do not understand.\n",
      "Would you speak slower, please.\n",
      "Who?\n",
      "Why?\n",
      "Spanish\n",
      "Buenos días.\n",
      "Buenas tardes.\n",
      "Buenas noches.\n",
      "Hola, me llamo Juan.\n",
      "¿Cómo se llama usted?\n",
      "¿Cómo está usted?\n",
      "Estoy bien.\n",
      "Mucho gusto.\n",
      "Adiós.\n",
      "Hasta luego.\n",
      "Estoy perdido. ¿Dónde está el baño?\n",
      "Con permiso. OR Perdóname\n",
      "Por favor.\n",
      "Gracías.\n",
      "Lo siento.\n",
      "Salud.\n",
      "De nada.\n",
      "¿Cuánto cuesta?\n",
      "¿Cuántos hay?\n",
      "Hay muchos.\n",
      "¿Quiere comprarlo usted?\n",
      "¿Qué hora es?\n",
      "¿Cómo se dice maybe en Español?\n",
      "Sí.\n",
      "No.\n",
      "Yo no comprendo.\n",
      "Por favor, habla mas despacio.\n",
      "¿Quièn?\n",
      "¿Por què?\n",
      "Pronunciation\n",
      "booEHN-os DEE-as\n",
      "booEHN-as TAR-dehs\n",
      "booEHN-as NO-chehs\n",
      "OH-la meh YA-mo Wahn\n",
      "KOH-moh seh YA-mah oos-TEHD\n",
      "KOH-moh ehs-TA oos-TEHD\n",
      "ehs-TOY bee-EHN\n",
      "MOO-choh GOOS-toh\n",
      "ah-dee-OHS\n",
      "AHS-ta looEH-go\n",
      "ehs-TOY pehr-DEE-doh. DOHN-deh ehs-TA el BAH-neeo\n",
      "kohn pehr-MEE-soh OR pehr-DOH-nah-meh\n",
      "pohr fah-VOR\n",
      "gra-SEE-ahs\n",
      "low see-EHN-to\n",
      "sah-LOOD\n",
      "deh NA-da\n",
      "kooAN-to KWEHS-ta\n",
      "kooAN-tohs eye\n",
      "eye MOO-chohs\n",
      "kee-EHR-eh kohm-PRAR-loh oos-TEHD\n",
      "keh OR-ah ehs\n",
      "KOH-mo seh DEE-seh maybe ehn ehs-pahn-YOL\n",
      "see\n",
      "no\n",
      "yoh no kom-PREN-doh\n",
      "pohr fah-VOR, AH-blah mahs dehs-PAHS-ee-oh\n",
      "kee-EHN\n",
      "pohr keh\n"
     ]
    }
   ],
   "source": [
    "for col in ws.iter_cols():\n",
    "    for cell in col:\n",
    "        print(cell.value)"
   ]
  },
  {
   "cell_type": "code",
   "execution_count": 6,
   "metadata": {
    "collapsed": false
   },
   "outputs": [
    {
     "data": {
      "text/plain": [
       "'\\n# if sheet has headers and index\\n\\ndata = ws.values\\ncols = next(data)[1:]\\ndata = list(data)\\nidx = [r[0] for r in data]\\ndata = (itertools.islice(r, 1, None) for r in data)\\ndf = pd.DataFrame(data, index=idx, columns=cols)\\n\\n# if sheet is just data\\n\\ndf = pd.DataFrame(ws.values)\\n'"
      ]
     },
     "execution_count": 6,
     "metadata": {},
     "output_type": "execute_result"
    }
   ],
   "source": [
    "# if sheet has headers and NO index\n",
    "\n",
    "data = ws.values\n",
    "cols = next(data)\n",
    "data = list(data)\n",
    "data = (itertools.islice(r, 0, None) for r in data)\n",
    "df = pd.DataFrame(data, columns=cols)\n",
    "\n",
    "\"\"\"\n",
    "# if sheet has headers and index\n",
    "\n",
    "data = ws.values\n",
    "cols = next(data)[1:]\n",
    "data = list(data)\n",
    "idx = [r[0] for r in data]\n",
    "data = (itertools.islice(r, 1, None) for r in data)\n",
    "df = pd.DataFrame(data, index=idx, columns=cols)\n",
    "\n",
    "# if sheet is just data\n",
    "\n",
    "df = pd.DataFrame(ws.values)\n",
    "\"\"\""
   ]
  },
  {
   "cell_type": "code",
   "execution_count": 7,
   "metadata": {
    "collapsed": false
   },
   "outputs": [
    {
     "data": {
      "text/html": [
       "<div>\n",
       "<table border=\"1\" class=\"dataframe\">\n",
       "  <thead>\n",
       "    <tr style=\"text-align: right;\">\n",
       "      <th></th>\n",
       "      <th>English</th>\n",
       "      <th>Spanish</th>\n",
       "      <th>Pronunciation</th>\n",
       "    </tr>\n",
       "  </thead>\n",
       "  <tbody>\n",
       "    <tr>\n",
       "      <th>0</th>\n",
       "      <td>Good morning.</td>\n",
       "      <td>Buenos días.</td>\n",
       "      <td>booEHN-os DEE-as</td>\n",
       "    </tr>\n",
       "    <tr>\n",
       "      <th>1</th>\n",
       "      <td>Good afternoon.</td>\n",
       "      <td>Buenas tardes.</td>\n",
       "      <td>booEHN-as TAR-dehs</td>\n",
       "    </tr>\n",
       "    <tr>\n",
       "      <th>2</th>\n",
       "      <td>Good evening. (greeting)</td>\n",
       "      <td>Buenas noches.</td>\n",
       "      <td>booEHN-as NO-chehs</td>\n",
       "    </tr>\n",
       "    <tr>\n",
       "      <th>3</th>\n",
       "      <td>Hello, my name is John.</td>\n",
       "      <td>Hola, me llamo Juan.</td>\n",
       "      <td>OH-la meh YA-mo Wahn</td>\n",
       "    </tr>\n",
       "    <tr>\n",
       "      <th>4</th>\n",
       "      <td>What is your name?</td>\n",
       "      <td>¿Cómo se llama usted?</td>\n",
       "      <td>KOH-moh seh YA-mah oos-TEHD</td>\n",
       "    </tr>\n",
       "    <tr>\n",
       "      <th>5</th>\n",
       "      <td>How are you?</td>\n",
       "      <td>¿Cómo está usted?</td>\n",
       "      <td>KOH-moh ehs-TA oos-TEHD</td>\n",
       "    </tr>\n",
       "    <tr>\n",
       "      <th>6</th>\n",
       "      <td>I am fine.</td>\n",
       "      <td>Estoy bien.</td>\n",
       "      <td>ehs-TOY bee-EHN</td>\n",
       "    </tr>\n",
       "    <tr>\n",
       "      <th>7</th>\n",
       "      <td>Nice to meet you.</td>\n",
       "      <td>Mucho gusto.</td>\n",
       "      <td>MOO-choh GOOS-toh</td>\n",
       "    </tr>\n",
       "    <tr>\n",
       "      <th>8</th>\n",
       "      <td>Goodbye.</td>\n",
       "      <td>Adiós.</td>\n",
       "      <td>ah-dee-OHS</td>\n",
       "    </tr>\n",
       "    <tr>\n",
       "      <th>9</th>\n",
       "      <td>See you later.</td>\n",
       "      <td>Hasta luego.</td>\n",
       "      <td>AHS-ta looEH-go</td>\n",
       "    </tr>\n",
       "    <tr>\n",
       "      <th>10</th>\n",
       "      <td>I am lost. Where is the restroom?</td>\n",
       "      <td>Estoy perdido. ¿Dónde está el baño?</td>\n",
       "      <td>ehs-TOY pehr-DEE-doh. DOHN-deh ehs-TA el BAH-neeo</td>\n",
       "    </tr>\n",
       "    <tr>\n",
       "      <th>11</th>\n",
       "      <td>Excuse me.</td>\n",
       "      <td>Con permiso. OR Perdóname</td>\n",
       "      <td>kohn pehr-MEE-soh OR pehr-DOH-nah-meh</td>\n",
       "    </tr>\n",
       "    <tr>\n",
       "      <th>12</th>\n",
       "      <td>Please.</td>\n",
       "      <td>Por favor.</td>\n",
       "      <td>pohr fah-VOR</td>\n",
       "    </tr>\n",
       "    <tr>\n",
       "      <th>13</th>\n",
       "      <td>Thank you.</td>\n",
       "      <td>Gracías.</td>\n",
       "      <td>gra-SEE-ahs</td>\n",
       "    </tr>\n",
       "    <tr>\n",
       "      <th>14</th>\n",
       "      <td>I'm sorry.</td>\n",
       "      <td>Lo siento.</td>\n",
       "      <td>low see-EHN-to</td>\n",
       "    </tr>\n",
       "    <tr>\n",
       "      <th>15</th>\n",
       "      <td>Bless you.</td>\n",
       "      <td>Salud.</td>\n",
       "      <td>sah-LOOD</td>\n",
       "    </tr>\n",
       "    <tr>\n",
       "      <th>16</th>\n",
       "      <td>You are welcome (it was nothing).</td>\n",
       "      <td>De nada.</td>\n",
       "      <td>deh NA-da</td>\n",
       "    </tr>\n",
       "    <tr>\n",
       "      <th>17</th>\n",
       "      <td>How much does it cost?</td>\n",
       "      <td>¿Cuánto cuesta?</td>\n",
       "      <td>kooAN-to KWEHS-ta</td>\n",
       "    </tr>\n",
       "    <tr>\n",
       "      <th>18</th>\n",
       "      <td>How many are there?</td>\n",
       "      <td>¿Cuántos hay?</td>\n",
       "      <td>kooAN-tohs eye</td>\n",
       "    </tr>\n",
       "    <tr>\n",
       "      <th>19</th>\n",
       "      <td>There are many.</td>\n",
       "      <td>Hay muchos.</td>\n",
       "      <td>eye MOO-chohs</td>\n",
       "    </tr>\n",
       "    <tr>\n",
       "      <th>20</th>\n",
       "      <td>Do you want to buy this?</td>\n",
       "      <td>¿Quiere comprarlo usted?</td>\n",
       "      <td>kee-EHR-eh kohm-PRAR-loh oos-TEHD</td>\n",
       "    </tr>\n",
       "    <tr>\n",
       "      <th>21</th>\n",
       "      <td>What time is it?</td>\n",
       "      <td>¿Qué hora es?</td>\n",
       "      <td>keh OR-ah ehs</td>\n",
       "    </tr>\n",
       "    <tr>\n",
       "      <th>22</th>\n",
       "      <td>How do you say maybe in Spanish?</td>\n",
       "      <td>¿Cómo se dice maybe en Español?</td>\n",
       "      <td>KOH-mo seh DEE-seh maybe ehn ehs-pahn-YOL</td>\n",
       "    </tr>\n",
       "    <tr>\n",
       "      <th>23</th>\n",
       "      <td>Yes.</td>\n",
       "      <td>Sí.</td>\n",
       "      <td>see</td>\n",
       "    </tr>\n",
       "    <tr>\n",
       "      <th>24</th>\n",
       "      <td>No.</td>\n",
       "      <td>No.</td>\n",
       "      <td>no</td>\n",
       "    </tr>\n",
       "    <tr>\n",
       "      <th>25</th>\n",
       "      <td>I do not understand.</td>\n",
       "      <td>Yo no comprendo.</td>\n",
       "      <td>yoh no kom-PREN-doh</td>\n",
       "    </tr>\n",
       "    <tr>\n",
       "      <th>26</th>\n",
       "      <td>Would you speak slower, please.</td>\n",
       "      <td>Por favor, habla mas despacio.</td>\n",
       "      <td>pohr fah-VOR, AH-blah mahs dehs-PAHS-ee-oh</td>\n",
       "    </tr>\n",
       "    <tr>\n",
       "      <th>27</th>\n",
       "      <td>Who?</td>\n",
       "      <td>¿Quièn?</td>\n",
       "      <td>kee-EHN</td>\n",
       "    </tr>\n",
       "    <tr>\n",
       "      <th>28</th>\n",
       "      <td>Why?</td>\n",
       "      <td>¿Por què?</td>\n",
       "      <td>pohr keh</td>\n",
       "    </tr>\n",
       "  </tbody>\n",
       "</table>\n",
       "</div>"
      ],
      "text/plain": [
       "                              English                              Spanish  \\\n",
       "0                       Good morning.                         Buenos días.   \n",
       "1                     Good afternoon.                       Buenas tardes.   \n",
       "2            Good evening. (greeting)                       Buenas noches.   \n",
       "3             Hello, my name is John.                 Hola, me llamo Juan.   \n",
       "4                  What is your name?                ¿Cómo se llama usted?   \n",
       "5                        How are you?                    ¿Cómo está usted?   \n",
       "6                          I am fine.                          Estoy bien.   \n",
       "7                   Nice to meet you.                         Mucho gusto.   \n",
       "8                            Goodbye.                               Adiós.   \n",
       "9                      See you later.                         Hasta luego.   \n",
       "10  I am lost. Where is the restroom?  Estoy perdido. ¿Dónde está el baño?   \n",
       "11                         Excuse me.            Con permiso. OR Perdóname   \n",
       "12                            Please.                           Por favor.   \n",
       "13                         Thank you.                             Gracías.   \n",
       "14                         I'm sorry.                           Lo siento.   \n",
       "15                         Bless you.                               Salud.   \n",
       "16  You are welcome (it was nothing).                             De nada.   \n",
       "17             How much does it cost?                      ¿Cuánto cuesta?   \n",
       "18                How many are there?                        ¿Cuántos hay?   \n",
       "19                    There are many.                          Hay muchos.   \n",
       "20           Do you want to buy this?             ¿Quiere comprarlo usted?   \n",
       "21                   What time is it?                        ¿Qué hora es?   \n",
       "22   How do you say maybe in Spanish?      ¿Cómo se dice maybe en Español?   \n",
       "23                               Yes.                                  Sí.   \n",
       "24                                No.                                  No.   \n",
       "25               I do not understand.                     Yo no comprendo.   \n",
       "26    Would you speak slower, please.       Por favor, habla mas despacio.   \n",
       "27                               Who?                              ¿Quièn?   \n",
       "28                               Why?                            ¿Por què?   \n",
       "\n",
       "                                        Pronunciation  \n",
       "0                                    booEHN-os DEE-as  \n",
       "1                                  booEHN-as TAR-dehs  \n",
       "2                                  booEHN-as NO-chehs  \n",
       "3                                OH-la meh YA-mo Wahn  \n",
       "4                         KOH-moh seh YA-mah oos-TEHD  \n",
       "5                             KOH-moh ehs-TA oos-TEHD  \n",
       "6                                     ehs-TOY bee-EHN  \n",
       "7                                   MOO-choh GOOS-toh  \n",
       "8                                          ah-dee-OHS  \n",
       "9                                     AHS-ta looEH-go  \n",
       "10  ehs-TOY pehr-DEE-doh. DOHN-deh ehs-TA el BAH-neeo  \n",
       "11              kohn pehr-MEE-soh OR pehr-DOH-nah-meh  \n",
       "12                                       pohr fah-VOR  \n",
       "13                                        gra-SEE-ahs  \n",
       "14                                     low see-EHN-to  \n",
       "15                                           sah-LOOD  \n",
       "16                                          deh NA-da  \n",
       "17                                  kooAN-to KWEHS-ta  \n",
       "18                                     kooAN-tohs eye  \n",
       "19                                      eye MOO-chohs  \n",
       "20                  kee-EHR-eh kohm-PRAR-loh oos-TEHD  \n",
       "21                                      keh OR-ah ehs  \n",
       "22          KOH-mo seh DEE-seh maybe ehn ehs-pahn-YOL  \n",
       "23                                                see  \n",
       "24                                                 no  \n",
       "25                                yoh no kom-PREN-doh  \n",
       "26         pohr fah-VOR, AH-blah mahs dehs-PAHS-ee-oh  \n",
       "27                                            kee-EHN  \n",
       "28                                           pohr keh  "
      ]
     },
     "execution_count": 7,
     "metadata": {},
     "output_type": "execute_result"
    }
   ],
   "source": [
    "df"
   ]
  },
  {
   "cell_type": "code",
   "execution_count": 8,
   "metadata": {
    "collapsed": false
   },
   "outputs": [],
   "source": [
    "# check for numeric or date columns and insert text cols into dict\n",
    "\n",
    "text = {}\n",
    "\n",
    "for name, col in df.iteritems():\n",
    "    \n",
    "    try:\n",
    "        pd.to_numeric(col)\n",
    "        \n",
    "    except:\n",
    "        \n",
    "        try:\n",
    "            pd.to_date(col)\n",
    "            \n",
    "        except:\n",
    "            text[name] = col"
   ]
  },
  {
   "cell_type": "code",
   "execution_count": 9,
   "metadata": {
    "collapsed": true
   },
   "outputs": [
    {
     "name": "stdout",
     "output_type": "stream",
     "text": [
      "{u'Pronunciation': 0                                      booEHN-os DEE-as\n",
      "1                                    booEHN-as TAR-dehs\n",
      "2                                    booEHN-as NO-chehs\n",
      "3                                  OH-la meh YA-mo Wahn\n",
      "4                           KOH-moh seh YA-mah oos-TEHD\n",
      "5                               KOH-moh ehs-TA oos-TEHD\n",
      "6                                       ehs-TOY bee-EHN\n",
      "7                                     MOO-choh GOOS-toh\n",
      "8                                            ah-dee-OHS\n",
      "9                                       AHS-ta looEH-go\n",
      "10    ehs-TOY pehr-DEE-doh. DOHN-deh ehs-TA el BAH-neeo\n",
      "11                kohn pehr-MEE-soh OR pehr-DOH-nah-meh\n",
      "12                                         pohr fah-VOR\n",
      "13                                          gra-SEE-ahs\n",
      "14                                       low see-EHN-to\n",
      "15                                             sah-LOOD\n",
      "16                                            deh NA-da\n",
      "17                                    kooAN-to KWEHS-ta\n",
      "18                                       kooAN-tohs eye\n",
      "19                                        eye MOO-chohs\n",
      "20                    kee-EHR-eh kohm-PRAR-loh oos-TEHD\n",
      "21                                        keh OR-ah ehs\n",
      "22            KOH-mo seh DEE-seh maybe ehn ehs-pahn-YOL\n",
      "23                                                  see\n",
      "24                                                   no\n",
      "25                                  yoh no kom-PREN-doh\n",
      "26           pohr fah-VOR, AH-blah mahs dehs-PAHS-ee-oh\n",
      "27                                              kee-EHN\n",
      "28                                             pohr keh\n",
      "Name: Pronunciation, dtype: object, u'Spanish': 0                            Buenos días.\n",
      "1                          Buenas tardes.\n",
      "2                          Buenas noches.\n",
      "3                    Hola, me llamo Juan.\n",
      "4                   ¿Cómo se llama usted?\n",
      "5                       ¿Cómo está usted?\n",
      "6                             Estoy bien.\n",
      "7                            Mucho gusto.\n",
      "8                                  Adiós.\n",
      "9                            Hasta luego.\n",
      "10    Estoy perdido. ¿Dónde está el baño?\n",
      "11              Con permiso. OR Perdóname\n",
      "12                             Por favor.\n",
      "13                               Gracías.\n",
      "14                             Lo siento.\n",
      "15                                 Salud.\n",
      "16                               De nada.\n",
      "17                        ¿Cuánto cuesta?\n",
      "18                          ¿Cuántos hay?\n",
      "19                            Hay muchos.\n",
      "20               ¿Quiere comprarlo usted?\n",
      "21                          ¿Qué hora es?\n",
      "22        ¿Cómo se dice maybe en Español?\n",
      "23                                    Sí.\n",
      "24                                    No.\n",
      "25                       Yo no comprendo.\n",
      "26         Por favor, habla mas despacio.\n",
      "27                                ¿Quièn?\n",
      "28                              ¿Por què?\n",
      "Name: Spanish, dtype: object, u'English': 0                         Good morning.\n",
      "1                       Good afternoon.\n",
      "2              Good evening. (greeting)\n",
      "3               Hello, my name is John.\n",
      "4                    What is your name?\n",
      "5                          How are you?\n",
      "6                            I am fine.\n",
      "7                     Nice to meet you.\n",
      "8                              Goodbye.\n",
      "9                        See you later.\n",
      "10    I am lost. Where is the restroom?\n",
      "11                           Excuse me.\n",
      "12                              Please.\n",
      "13                           Thank you.\n",
      "14                           I'm sorry.\n",
      "15                           Bless you.\n",
      "16    You are welcome (it was nothing).\n",
      "17               How much does it cost?\n",
      "18                  How many are there?\n",
      "19                      There are many.\n",
      "20             Do you want to buy this?\n",
      "21                     What time is it?\n",
      "22     How do you say maybe in Spanish?\n",
      "23                                 Yes.\n",
      "24                                  No.\n",
      "25                 I do not understand.\n",
      "26      Would you speak slower, please.\n",
      "27                                 Who?\n",
      "28                                 Why?\n",
      "Name: English, dtype: object}\n"
     ]
    }
   ],
   "source": [
    "print text"
   ]
  },
  {
   "cell_type": "code",
   "execution_count": 12,
   "metadata": {
    "collapsed": false
   },
   "outputs": [],
   "source": [
    "credentials, project = google.auth.default()\n",
    "translate_client = translate.Client(credentials=credentials)"
   ]
  },
  {
   "cell_type": "code",
   "execution_count": 17,
   "metadata": {
    "collapsed": false
   },
   "outputs": [
    {
     "data": {
      "text/plain": [
       "{u'detectedSourceLanguage': u'es',\n",
       " 'input': 'hola mi amigo gorda',\n",
       " u'translatedText': u'Hello my fat friend'}"
      ]
     },
     "execution_count": 17,
     "metadata": {},
     "output_type": "execute_result"
    }
   ],
   "source": [
    "translate_client.translate(\"hola mi amigo gorda\", target_language='en')"
   ]
  },
  {
   "cell_type": "code",
   "execution_count": null,
   "metadata": {
    "collapsed": true
   },
   "outputs": [],
   "source": []
  },
  {
   "cell_type": "code",
   "execution_count": 93,
   "metadata": {
    "collapsed": false
   },
   "outputs": [
    {
     "data": {
      "text/plain": [
       "['once', '**&', 'upon', 'a', '..#', 'time', 'in', '99327', 'lando']"
      ]
     },
     "execution_count": 93,
     "metadata": {},
     "output_type": "execute_result"
    }
   ],
   "source": [
    "s.split(' ')"
   ]
  },
  {
   "cell_type": "code",
   "execution_count": 14,
   "metadata": {
    "collapsed": true
   },
   "outputs": [],
   "source": [
    "s = \"once **& upon a ..# time in 99327 lando\""
   ]
  },
  {
   "cell_type": "code",
   "execution_count": null,
   "metadata": {
    "collapsed": true
   },
   "outputs": [],
   "source": [
    "def is_number(s):\n",
    "    try:\n",
    "        float(s)\n",
    "        return True\n",
    "    except ValueError:\n",
    "        return False"
   ]
  },
  {
   "cell_type": "code",
   "execution_count": null,
   "metadata": {
    "collapsed": true
   },
   "outputs": [],
   "source": []
  },
  {
   "cell_type": "code",
   "execution_count": null,
   "metadata": {
    "collapsed": true
   },
   "outputs": [],
   "source": []
  },
  {
   "cell_type": "code",
   "execution_count": null,
   "metadata": {
    "collapsed": true
   },
   "outputs": [],
   "source": []
  }
 ],
 "metadata": {
  "kernelspec": {
   "display_name": "Python 2",
   "language": "python",
   "name": "python2"
  },
  "language_info": {
   "codemirror_mode": {
    "name": "ipython",
    "version": 2
   },
   "file_extension": ".py",
   "mimetype": "text/x-python",
   "name": "python",
   "nbconvert_exporter": "python",
   "pygments_lexer": "ipython2",
   "version": "2.7.12"
  }
 },
 "nbformat": 4,
 "nbformat_minor": 0
}
