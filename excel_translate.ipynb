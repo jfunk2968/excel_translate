{
 "cells": [
  {
   "cell_type": "code",
   "execution_count": 1,
   "metadata": {
    "collapsed": false
   },
   "outputs": [],
   "source": [
    "import pandas as pd\n",
    "from openpyxl import Workbook\n",
    "from openpyxl import load_workbook\n",
    "from google.cloud import translate\n",
    "import google.auth\n",
    "import itertools"
   ]
  },
  {
   "cell_type": "markdown",
   "metadata": {},
   "source": [
    "### Load Excel Workbook"
   ]
  },
  {
   "cell_type": "code",
   "execution_count": 31,
   "metadata": {
    "collapsed": false
   },
   "outputs": [],
   "source": [
    "\"\"\"\n",
    "check for repeated values - don't want to google the same value over and over\n",
    "\n",
    "check list of column headers and translate\n",
    "\n",
    "allow for list of columns to exclude/translate\n",
    "\n",
    "check for uniqueness of columns to treat text and 'codes' separately\n",
    "\n",
    "\n",
    "\"\"\"\n",
    "\n",
    "fname = 'test.xlsx'"
   ]
  },
  {
   "cell_type": "code",
   "execution_count": 32,
   "metadata": {
    "collapsed": false
   },
   "outputs": [],
   "source": [
    "wb = load_workbook(fname)"
   ]
  },
  {
   "cell_type": "code",
   "execution_count": 33,
   "metadata": {
    "collapsed": false
   },
   "outputs": [
    {
     "name": "stdout",
     "output_type": "stream",
     "text": [
      "[u'Sheet1', u'Spanish']\n"
     ]
    }
   ],
   "source": [
    "print(wb.sheetnames)"
   ]
  },
  {
   "cell_type": "code",
   "execution_count": 20,
   "metadata": {
    "collapsed": false
   },
   "outputs": [],
   "source": [
    "ws = wb['Spanish']"
   ]
  },
  {
   "cell_type": "markdown",
   "metadata": {},
   "source": [
    "### Library to store translated phrases ... to avoid uneccesary API calls"
   ]
  },
  {
   "cell_type": "code",
   "execution_count": null,
   "metadata": {
    "collapsed": true
   },
   "outputs": [],
   "source": [
    "translated = {}"
   ]
  },
  {
   "cell_type": "markdown",
   "metadata": {},
   "source": [
    "### Setup Google Translate API Client"
   ]
  },
  {
   "cell_type": "code",
   "execution_count": 12,
   "metadata": {
    "collapsed": false
   },
   "outputs": [],
   "source": [
    "credentials, project = google.auth.default()\n",
    "translate_client = translate.Client(credentials=credentials)"
   ]
  },
  {
   "cell_type": "code",
   "execution_count": null,
   "metadata": {
    "collapsed": true
   },
   "outputs": [],
   "source": []
  },
  {
   "cell_type": "markdown",
   "metadata": {},
   "source": [
    "### Iterate Worksheet and Translate Cells"
   ]
  },
  {
   "cell_type": "code",
   "execution_count": 27,
   "metadata": {
    "collapsed": true
   },
   "outputs": [
    {
     "name": "stdout",
     "output_type": "stream",
     "text": [
      "(u'English', (0, 0), 1, 1)\n",
      "(u'new - new - Good morning.', (0, 36), 2, 1)\n",
      "(u'Good afternoon.', (0, 68), 3, 1)\n",
      "(u'Good evening. (greeting)', (0, 100), 4, 1)\n",
      "(u'Hello, my name is John.', (0, 132), 5, 1)\n",
      "(u'What is your name?', (0, 164), 6, 1)\n",
      "(u'How are you?', (0, 196), 7, 1)\n",
      "(u'I am fine.', (0, 228), 8, 1)\n",
      "(u'Nice to meet you.', (0, 260), 9, 1)\n",
      "(u'Goodbye.', (0, 292), 10, 1)\n",
      "(u'See you later.', (0, 324), 11, 1)\n",
      "(u'I am lost. Where is the restroom?', (0, 356), 12, 1)\n",
      "(u'Excuse me.', (0, 388), 13, 1)\n",
      "(u'Please.', (0, 420), 14, 1)\n",
      "(u'Thank you.', (0, 452), 15, 1)\n",
      "(u\"I'm sorry.\", (0, 484), 16, 1)\n",
      "(u'Bless you.', (0, 516), 17, 1)\n",
      "(u'You are welcome (it was nothing).', (0, 548), 18, 1)\n",
      "(u'How much does it cost?', (0, 580), 19, 1)\n",
      "(u'How many are there?', (0, 612), 20, 1)\n",
      "(u'There are many.', (0, 644), 21, 1)\n",
      "(u'Do you want to buy this?', (0, 676), 22, 1)\n",
      "(u'What time is it?', (0, 708), 23, 1)\n",
      "(u'How do you say maybe in Spanish?', (0, 740), 24, 1)\n",
      "(u'Yes.', (0, 772), 25, 1)\n",
      "(u'No.', (0, 804), 26, 1)\n",
      "(u'I do not understand.', (0, 836), 27, 1)\n",
      "(u'Would you speak slower, please.', (0, 868), 28, 1)\n",
      "(u'Who?', (0, 900), 29, 1)\n",
      "(u'Why?', (0, 932), 30, 1)\n",
      "(u'Good afternoon.', (0, 964), 31, 1)\n",
      "(u'Good evening. (greeting)', (0, 996), 32, 1)\n",
      "(u'Hello, my name is John.', (0, 1028), 33, 1)\n",
      "(u'What is your name?', (0, 1060), 34, 1)\n",
      "(u'How are you?', (0, 1092), 35, 1)\n",
      "(u'I am fine.', (0, 1124), 36, 1)\n",
      "(u'Nice to meet you.', (0, 1156), 37, 1)\n",
      "(u'Goodbye.', (0, 1188), 38, 1)\n",
      "(u'See you later.', (0, 1220), 39, 1)\n",
      "(u'Good afternoon.', (0, 1252), 40, 1)\n",
      "(u'Good evening. (greeting)', (0, 1284), 41, 1)\n",
      "(u'Hello, my name is John.', (0, 1316), 42, 1)\n",
      "(u'What is your name?', (0, 1348), 43, 1)\n",
      "(u'How are you?', (0, 1380), 44, 1)\n",
      "(u'new - Spanish', (60, 0), 1, 2)\n",
      "(u'new - new - Buenos d\\xedas.', (60, 36), 2, 2)\n",
      "(u'new - Buenas tardes.', (60, 68), 3, 2)\n",
      "(u'new - Buenas noches.', (60, 100), 4, 2)\n",
      "(u'new - Hola, me llamo Juan.', (60, 132), 5, 2)\n",
      "(u'new - \\xbfC\\xf3mo se llama usted?', (60, 164), 6, 2)\n",
      "(u'new - \\xbfC\\xf3mo est\\xe1 usted?', (60, 196), 7, 2)\n",
      "(u'new - Estoy bien.', (60, 228), 8, 2)\n",
      "(u'new - Mucho gusto.', (60, 260), 9, 2)\n",
      "(u'new - Adi\\xf3s.', (60, 292), 10, 2)\n",
      "(u'new - Hasta luego.', (60, 324), 11, 2)\n",
      "(u'new - Estoy perdido. \\xbfD\\xf3nde est\\xe1 el ba\\xf1o?', (60, 356), 12, 2)\n",
      "(u'new - Con permiso.\\xa0OR\\xa0Perd\\xf3name', (60, 388), 13, 2)\n",
      "(u'new - Por favor.', (60, 420), 14, 2)\n",
      "(u'new - Grac\\xedas.', (60, 452), 15, 2)\n",
      "(u'new - Lo siento.', (60, 484), 16, 2)\n",
      "(u'new - Salud.', (60, 516), 17, 2)\n",
      "(u'new - De nada.', (60, 548), 18, 2)\n",
      "(u'new - \\xbfCu\\xe1nto cuesta?', (60, 580), 19, 2)\n",
      "(u'new - \\xbfCu\\xe1ntos hay?', (60, 612), 20, 2)\n",
      "(u'new - Hay muchos.', (60, 644), 21, 2)\n",
      "(u'new - \\xbfQuiere comprarlo usted?', (60, 676), 22, 2)\n",
      "(u'new - \\xbfQu\\xe9 hora es?', (60, 708), 23, 2)\n",
      "(u'new - \\xbfC\\xf3mo se dice maybe en Espa\\xf1ol?', (60, 740), 24, 2)\n",
      "(u'new - S\\xed.', (60, 772), 25, 2)\n",
      "(u'new - No.', (60, 804), 26, 2)\n",
      "(u'new - Yo no comprendo.', (60, 836), 27, 2)\n",
      "(u'new - Por favor, habla mas despacio.', (60, 868), 28, 2)\n",
      "(u'new - \\xbfQui\\xe8n?', (60, 900), 29, 2)\n",
      "(u'new - \\xbfPor qu\\xe8?', (60, 932), 30, 2)\n",
      "(u'new - Buenas tardes.', (60, 964), 31, 2)\n",
      "(u'new - Buenas noches.', (60, 996), 32, 2)\n",
      "(u'new - Hola, me llamo Juan.', (60, 1028), 33, 2)\n",
      "(u'new - \\xbfC\\xf3mo se llama usted?', (60, 1060), 34, 2)\n",
      "(u'new - \\xbfC\\xf3mo est\\xe1 usted?', (60, 1092), 35, 2)\n",
      "(u'new - Estoy bien.', (60, 1124), 36, 2)\n",
      "(u'new - Mucho gusto.', (60, 1156), 37, 2)\n",
      "(u'new - Adi\\xf3s.', (60, 1188), 38, 2)\n",
      "(u'new - Hasta luego.', (60, 1220), 39, 2)\n",
      "(u'new - Buenas tardes.', (60, 1252), 40, 2)\n",
      "(u'new - Buenas noches.', (60, 1284), 41, 2)\n",
      "(u'new - Hola, me llamo Juan.', (60, 1316), 42, 2)\n",
      "(u'new - \\xbfC\\xf3mo se llama usted?', (60, 1348), 43, 2)\n",
      "(u'new - \\xbfC\\xf3mo est\\xe1 usted?', (60, 1380), 44, 2)\n",
      "(u'Pronunciation', (120, 0), 1, 3)\n",
      "(u'new - booEHN-os DEE-as', (120, 36), 2, 3)\n",
      "(u'booEHN-as TAR-dehs', (120, 68), 3, 3)\n",
      "(u'booEHN-as NO-chehs', (120, 100), 4, 3)\n",
      "(u'OH-la meh YA-mo Wahn', (120, 132), 5, 3)\n",
      "(u'KOH-moh seh YA-mah oos-TEHD', (120, 164), 6, 3)\n",
      "(u'KOH-moh ehs-TA oos-TEHD', (120, 196), 7, 3)\n",
      "(u'ehs-TOY bee-EHN', (120, 228), 8, 3)\n",
      "(u'MOO-choh GOOS-toh', (120, 260), 9, 3)\n",
      "(u'ah-dee-OHS', (120, 292), 10, 3)\n",
      "(u'AHS-ta looEH-go', (120, 324), 11, 3)\n",
      "(u'ehs-TOY pehr-DEE-doh. DOHN-deh ehs-TA el BAH-neeo', (120, 356), 12, 3)\n",
      "(u'kohn pehr-MEE-soh\\xa0OR\\xa0pehr-DOH-nah-meh', (120, 388), 13, 3)\n",
      "(u'pohr fah-VOR', (120, 420), 14, 3)\n",
      "(u'gra-SEE-ahs', (120, 452), 15, 3)\n",
      "(u'low see-EHN-to', (120, 484), 16, 3)\n",
      "(u'sah-LOOD', (120, 516), 17, 3)\n",
      "(u'deh NA-da', (120, 548), 18, 3)\n",
      "(u'kooAN-to KWEHS-ta', (120, 580), 19, 3)\n",
      "(u'kooAN-tohs eye', (120, 612), 20, 3)\n",
      "(u'eye MOO-chohs', (120, 644), 21, 3)\n",
      "(u'kee-EHR-eh kohm-PRAR-loh oos-TEHD', (120, 676), 22, 3)\n",
      "(u'keh OR-ah ehs', (120, 708), 23, 3)\n",
      "(u'KOH-mo seh DEE-seh maybe ehn ehs-pahn-YOL', (120, 740), 24, 3)\n",
      "(u'see', (120, 772), 25, 3)\n",
      "(u'no', (120, 804), 26, 3)\n",
      "(u'yoh no kom-PREN-doh', (120, 836), 27, 3)\n",
      "(u'pohr fah-VOR, AH-blah mahs dehs-PAHS-ee-oh', (120, 868), 28, 3)\n",
      "(u'kee-EHN', (120, 900), 29, 3)\n",
      "(u'pohr keh', (120, 932), 30, 3)\n",
      "(u'booEHN-as TAR-dehs', (120, 964), 31, 3)\n",
      "(u'booEHN-as NO-chehs', (120, 996), 32, 3)\n",
      "(u'OH-la meh YA-mo Wahn', (120, 1028), 33, 3)\n",
      "(u'KOH-moh seh YA-mah oos-TEHD', (120, 1060), 34, 3)\n",
      "(u'KOH-moh ehs-TA oos-TEHD', (120, 1092), 35, 3)\n",
      "(u'ehs-TOY bee-EHN', (120, 1124), 36, 3)\n",
      "(u'MOO-choh GOOS-toh', (120, 1156), 37, 3)\n",
      "(u'ah-dee-OHS', (120, 1188), 38, 3)\n",
      "(u'AHS-ta looEH-go', (120, 1220), 39, 3)\n",
      "(u'booEHN-as TAR-dehs', (120, 1252), 40, 3)\n",
      "(u'booEHN-as NO-chehs', (120, 1284), 41, 3)\n",
      "(u'OH-la meh YA-mo Wahn', (120, 1316), 42, 3)\n",
      "(u'KOH-moh seh YA-mah oos-TEHD', (120, 1348), 43, 3)\n",
      "(u'KOH-moh ehs-TA oos-TEHD', (120, 1380), 44, 3)\n"
     ]
    }
   ],
   "source": [
    "for col in ws.iter_cols():\n",
    "    for cell in col:\n",
    "        \n",
    "        if cell.col_idx == 2:\n",
    "            cell.value = 'new - ' + cell.value.encode('utf-8')\n",
    "        \n",
    "        \n",
    "        print(cell.value, cell.anchor, cell.row, cell.col_idx)"
   ]
  },
  {
   "cell_type": "code",
   "execution_count": 28,
   "metadata": {
    "collapsed": true
   },
   "outputs": [],
   "source": [
    "wb.save('test_translated.xlsx')"
   ]
  },
  {
   "cell_type": "code",
   "execution_count": 6,
   "metadata": {
    "collapsed": false
   },
   "outputs": [
    {
     "data": {
      "text/plain": [
       "'\\n# if sheet has headers and index\\n\\ndata = ws.values\\ncols = next(data)[1:]\\ndata = list(data)\\nidx = [r[0] for r in data]\\ndata = (itertools.islice(r, 1, None) for r in data)\\ndf = pd.DataFrame(data, index=idx, columns=cols)\\n\\n# if sheet is just data\\n\\ndf = pd.DataFrame(ws.values)\\n'"
      ]
     },
     "execution_count": 6,
     "metadata": {},
     "output_type": "execute_result"
    }
   ],
   "source": [
    "# if sheet has headers and NO index\n",
    "\n",
    "data = ws.values\n",
    "cols = next(data)\n",
    "data = list(data)\n",
    "data = (itertools.islice(r, 0, None) for r in data)\n",
    "df = pd.DataFrame(data, columns=cols)\n",
    "\n",
    "\"\"\"\n",
    "# if sheet has headers and index\n",
    "\n",
    "data = ws.values\n",
    "cols = next(data)[1:]\n",
    "data = list(data)\n",
    "idx = [r[0] for r in data]\n",
    "data = (itertools.islice(r, 1, None) for r in data)\n",
    "df = pd.DataFrame(data, index=idx, columns=cols)\n",
    "\n",
    "# if sheet is just data\n",
    "\n",
    "df = pd.DataFrame(ws.values)\n",
    "\"\"\""
   ]
  },
  {
   "cell_type": "code",
   "execution_count": 7,
   "metadata": {
    "collapsed": false
   },
   "outputs": [
    {
     "data": {
      "text/html": [
       "<div>\n",
       "<table border=\"1\" class=\"dataframe\">\n",
       "  <thead>\n",
       "    <tr style=\"text-align: right;\">\n",
       "      <th></th>\n",
       "      <th>English</th>\n",
       "      <th>Spanish</th>\n",
       "      <th>Pronunciation</th>\n",
       "    </tr>\n",
       "  </thead>\n",
       "  <tbody>\n",
       "    <tr>\n",
       "      <th>0</th>\n",
       "      <td>Good morning.</td>\n",
       "      <td>Buenos días.</td>\n",
       "      <td>booEHN-os DEE-as</td>\n",
       "    </tr>\n",
       "    <tr>\n",
       "      <th>1</th>\n",
       "      <td>Good afternoon.</td>\n",
       "      <td>Buenas tardes.</td>\n",
       "      <td>booEHN-as TAR-dehs</td>\n",
       "    </tr>\n",
       "    <tr>\n",
       "      <th>2</th>\n",
       "      <td>Good evening. (greeting)</td>\n",
       "      <td>Buenas noches.</td>\n",
       "      <td>booEHN-as NO-chehs</td>\n",
       "    </tr>\n",
       "    <tr>\n",
       "      <th>3</th>\n",
       "      <td>Hello, my name is John.</td>\n",
       "      <td>Hola, me llamo Juan.</td>\n",
       "      <td>OH-la meh YA-mo Wahn</td>\n",
       "    </tr>\n",
       "    <tr>\n",
       "      <th>4</th>\n",
       "      <td>What is your name?</td>\n",
       "      <td>¿Cómo se llama usted?</td>\n",
       "      <td>KOH-moh seh YA-mah oos-TEHD</td>\n",
       "    </tr>\n",
       "    <tr>\n",
       "      <th>5</th>\n",
       "      <td>How are you?</td>\n",
       "      <td>¿Cómo está usted?</td>\n",
       "      <td>KOH-moh ehs-TA oos-TEHD</td>\n",
       "    </tr>\n",
       "    <tr>\n",
       "      <th>6</th>\n",
       "      <td>I am fine.</td>\n",
       "      <td>Estoy bien.</td>\n",
       "      <td>ehs-TOY bee-EHN</td>\n",
       "    </tr>\n",
       "    <tr>\n",
       "      <th>7</th>\n",
       "      <td>Nice to meet you.</td>\n",
       "      <td>Mucho gusto.</td>\n",
       "      <td>MOO-choh GOOS-toh</td>\n",
       "    </tr>\n",
       "    <tr>\n",
       "      <th>8</th>\n",
       "      <td>Goodbye.</td>\n",
       "      <td>Adiós.</td>\n",
       "      <td>ah-dee-OHS</td>\n",
       "    </tr>\n",
       "    <tr>\n",
       "      <th>9</th>\n",
       "      <td>See you later.</td>\n",
       "      <td>Hasta luego.</td>\n",
       "      <td>AHS-ta looEH-go</td>\n",
       "    </tr>\n",
       "    <tr>\n",
       "      <th>10</th>\n",
       "      <td>I am lost. Where is the restroom?</td>\n",
       "      <td>Estoy perdido. ¿Dónde está el baño?</td>\n",
       "      <td>ehs-TOY pehr-DEE-doh. DOHN-deh ehs-TA el BAH-neeo</td>\n",
       "    </tr>\n",
       "    <tr>\n",
       "      <th>11</th>\n",
       "      <td>Excuse me.</td>\n",
       "      <td>Con permiso. OR Perdóname</td>\n",
       "      <td>kohn pehr-MEE-soh OR pehr-DOH-nah-meh</td>\n",
       "    </tr>\n",
       "    <tr>\n",
       "      <th>12</th>\n",
       "      <td>Please.</td>\n",
       "      <td>Por favor.</td>\n",
       "      <td>pohr fah-VOR</td>\n",
       "    </tr>\n",
       "    <tr>\n",
       "      <th>13</th>\n",
       "      <td>Thank you.</td>\n",
       "      <td>Gracías.</td>\n",
       "      <td>gra-SEE-ahs</td>\n",
       "    </tr>\n",
       "    <tr>\n",
       "      <th>14</th>\n",
       "      <td>I'm sorry.</td>\n",
       "      <td>Lo siento.</td>\n",
       "      <td>low see-EHN-to</td>\n",
       "    </tr>\n",
       "    <tr>\n",
       "      <th>15</th>\n",
       "      <td>Bless you.</td>\n",
       "      <td>Salud.</td>\n",
       "      <td>sah-LOOD</td>\n",
       "    </tr>\n",
       "    <tr>\n",
       "      <th>16</th>\n",
       "      <td>You are welcome (it was nothing).</td>\n",
       "      <td>De nada.</td>\n",
       "      <td>deh NA-da</td>\n",
       "    </tr>\n",
       "    <tr>\n",
       "      <th>17</th>\n",
       "      <td>How much does it cost?</td>\n",
       "      <td>¿Cuánto cuesta?</td>\n",
       "      <td>kooAN-to KWEHS-ta</td>\n",
       "    </tr>\n",
       "    <tr>\n",
       "      <th>18</th>\n",
       "      <td>How many are there?</td>\n",
       "      <td>¿Cuántos hay?</td>\n",
       "      <td>kooAN-tohs eye</td>\n",
       "    </tr>\n",
       "    <tr>\n",
       "      <th>19</th>\n",
       "      <td>There are many.</td>\n",
       "      <td>Hay muchos.</td>\n",
       "      <td>eye MOO-chohs</td>\n",
       "    </tr>\n",
       "    <tr>\n",
       "      <th>20</th>\n",
       "      <td>Do you want to buy this?</td>\n",
       "      <td>¿Quiere comprarlo usted?</td>\n",
       "      <td>kee-EHR-eh kohm-PRAR-loh oos-TEHD</td>\n",
       "    </tr>\n",
       "    <tr>\n",
       "      <th>21</th>\n",
       "      <td>What time is it?</td>\n",
       "      <td>¿Qué hora es?</td>\n",
       "      <td>keh OR-ah ehs</td>\n",
       "    </tr>\n",
       "    <tr>\n",
       "      <th>22</th>\n",
       "      <td>How do you say maybe in Spanish?</td>\n",
       "      <td>¿Cómo se dice maybe en Español?</td>\n",
       "      <td>KOH-mo seh DEE-seh maybe ehn ehs-pahn-YOL</td>\n",
       "    </tr>\n",
       "    <tr>\n",
       "      <th>23</th>\n",
       "      <td>Yes.</td>\n",
       "      <td>Sí.</td>\n",
       "      <td>see</td>\n",
       "    </tr>\n",
       "    <tr>\n",
       "      <th>24</th>\n",
       "      <td>No.</td>\n",
       "      <td>No.</td>\n",
       "      <td>no</td>\n",
       "    </tr>\n",
       "    <tr>\n",
       "      <th>25</th>\n",
       "      <td>I do not understand.</td>\n",
       "      <td>Yo no comprendo.</td>\n",
       "      <td>yoh no kom-PREN-doh</td>\n",
       "    </tr>\n",
       "    <tr>\n",
       "      <th>26</th>\n",
       "      <td>Would you speak slower, please.</td>\n",
       "      <td>Por favor, habla mas despacio.</td>\n",
       "      <td>pohr fah-VOR, AH-blah mahs dehs-PAHS-ee-oh</td>\n",
       "    </tr>\n",
       "    <tr>\n",
       "      <th>27</th>\n",
       "      <td>Who?</td>\n",
       "      <td>¿Quièn?</td>\n",
       "      <td>kee-EHN</td>\n",
       "    </tr>\n",
       "    <tr>\n",
       "      <th>28</th>\n",
       "      <td>Why?</td>\n",
       "      <td>¿Por què?</td>\n",
       "      <td>pohr keh</td>\n",
       "    </tr>\n",
       "  </tbody>\n",
       "</table>\n",
       "</div>"
      ],
      "text/plain": [
       "                              English                              Spanish  \\\n",
       "0                       Good morning.                         Buenos días.   \n",
       "1                     Good afternoon.                       Buenas tardes.   \n",
       "2            Good evening. (greeting)                       Buenas noches.   \n",
       "3             Hello, my name is John.                 Hola, me llamo Juan.   \n",
       "4                  What is your name?                ¿Cómo se llama usted?   \n",
       "5                        How are you?                    ¿Cómo está usted?   \n",
       "6                          I am fine.                          Estoy bien.   \n",
       "7                   Nice to meet you.                         Mucho gusto.   \n",
       "8                            Goodbye.                               Adiós.   \n",
       "9                      See you later.                         Hasta luego.   \n",
       "10  I am lost. Where is the restroom?  Estoy perdido. ¿Dónde está el baño?   \n",
       "11                         Excuse me.            Con permiso. OR Perdóname   \n",
       "12                            Please.                           Por favor.   \n",
       "13                         Thank you.                             Gracías.   \n",
       "14                         I'm sorry.                           Lo siento.   \n",
       "15                         Bless you.                               Salud.   \n",
       "16  You are welcome (it was nothing).                             De nada.   \n",
       "17             How much does it cost?                      ¿Cuánto cuesta?   \n",
       "18                How many are there?                        ¿Cuántos hay?   \n",
       "19                    There are many.                          Hay muchos.   \n",
       "20           Do you want to buy this?             ¿Quiere comprarlo usted?   \n",
       "21                   What time is it?                        ¿Qué hora es?   \n",
       "22   How do you say maybe in Spanish?      ¿Cómo se dice maybe en Español?   \n",
       "23                               Yes.                                  Sí.   \n",
       "24                                No.                                  No.   \n",
       "25               I do not understand.                     Yo no comprendo.   \n",
       "26    Would you speak slower, please.       Por favor, habla mas despacio.   \n",
       "27                               Who?                              ¿Quièn?   \n",
       "28                               Why?                            ¿Por què?   \n",
       "\n",
       "                                        Pronunciation  \n",
       "0                                    booEHN-os DEE-as  \n",
       "1                                  booEHN-as TAR-dehs  \n",
       "2                                  booEHN-as NO-chehs  \n",
       "3                                OH-la meh YA-mo Wahn  \n",
       "4                         KOH-moh seh YA-mah oos-TEHD  \n",
       "5                             KOH-moh ehs-TA oos-TEHD  \n",
       "6                                     ehs-TOY bee-EHN  \n",
       "7                                   MOO-choh GOOS-toh  \n",
       "8                                          ah-dee-OHS  \n",
       "9                                     AHS-ta looEH-go  \n",
       "10  ehs-TOY pehr-DEE-doh. DOHN-deh ehs-TA el BAH-neeo  \n",
       "11              kohn pehr-MEE-soh OR pehr-DOH-nah-meh  \n",
       "12                                       pohr fah-VOR  \n",
       "13                                        gra-SEE-ahs  \n",
       "14                                     low see-EHN-to  \n",
       "15                                           sah-LOOD  \n",
       "16                                          deh NA-da  \n",
       "17                                  kooAN-to KWEHS-ta  \n",
       "18                                     kooAN-tohs eye  \n",
       "19                                      eye MOO-chohs  \n",
       "20                  kee-EHR-eh kohm-PRAR-loh oos-TEHD  \n",
       "21                                      keh OR-ah ehs  \n",
       "22          KOH-mo seh DEE-seh maybe ehn ehs-pahn-YOL  \n",
       "23                                                see  \n",
       "24                                                 no  \n",
       "25                                yoh no kom-PREN-doh  \n",
       "26         pohr fah-VOR, AH-blah mahs dehs-PAHS-ee-oh  \n",
       "27                                            kee-EHN  \n",
       "28                                           pohr keh  "
      ]
     },
     "execution_count": 7,
     "metadata": {},
     "output_type": "execute_result"
    }
   ],
   "source": [
    "df"
   ]
  },
  {
   "cell_type": "code",
   "execution_count": 8,
   "metadata": {
    "collapsed": false
   },
   "outputs": [],
   "source": [
    "# check for numeric or date columns and insert text cols into dict\n",
    "\n",
    "text = {}\n",
    "\n",
    "for name, col in df.iteritems():\n",
    "    \n",
    "    try:\n",
    "        pd.to_numeric(col)\n",
    "        \n",
    "    except:\n",
    "        \n",
    "        try:\n",
    "            pd.to_date(col)\n",
    "            \n",
    "        except:\n",
    "            text[name] = col"
   ]
  },
  {
   "cell_type": "code",
   "execution_count": 9,
   "metadata": {
    "collapsed": true
   },
   "outputs": [
    {
     "name": "stdout",
     "output_type": "stream",
     "text": [
      "{u'Pronunciation': 0                                      booEHN-os DEE-as\n",
      "1                                    booEHN-as TAR-dehs\n",
      "2                                    booEHN-as NO-chehs\n",
      "3                                  OH-la meh YA-mo Wahn\n",
      "4                           KOH-moh seh YA-mah oos-TEHD\n",
      "5                               KOH-moh ehs-TA oos-TEHD\n",
      "6                                       ehs-TOY bee-EHN\n",
      "7                                     MOO-choh GOOS-toh\n",
      "8                                            ah-dee-OHS\n",
      "9                                       AHS-ta looEH-go\n",
      "10    ehs-TOY pehr-DEE-doh. DOHN-deh ehs-TA el BAH-neeo\n",
      "11                kohn pehr-MEE-soh OR pehr-DOH-nah-meh\n",
      "12                                         pohr fah-VOR\n",
      "13                                          gra-SEE-ahs\n",
      "14                                       low see-EHN-to\n",
      "15                                             sah-LOOD\n",
      "16                                            deh NA-da\n",
      "17                                    kooAN-to KWEHS-ta\n",
      "18                                       kooAN-tohs eye\n",
      "19                                        eye MOO-chohs\n",
      "20                    kee-EHR-eh kohm-PRAR-loh oos-TEHD\n",
      "21                                        keh OR-ah ehs\n",
      "22            KOH-mo seh DEE-seh maybe ehn ehs-pahn-YOL\n",
      "23                                                  see\n",
      "24                                                   no\n",
      "25                                  yoh no kom-PREN-doh\n",
      "26           pohr fah-VOR, AH-blah mahs dehs-PAHS-ee-oh\n",
      "27                                              kee-EHN\n",
      "28                                             pohr keh\n",
      "Name: Pronunciation, dtype: object, u'Spanish': 0                            Buenos días.\n",
      "1                          Buenas tardes.\n",
      "2                          Buenas noches.\n",
      "3                    Hola, me llamo Juan.\n",
      "4                   ¿Cómo se llama usted?\n",
      "5                       ¿Cómo está usted?\n",
      "6                             Estoy bien.\n",
      "7                            Mucho gusto.\n",
      "8                                  Adiós.\n",
      "9                            Hasta luego.\n",
      "10    Estoy perdido. ¿Dónde está el baño?\n",
      "11              Con permiso. OR Perdóname\n",
      "12                             Por favor.\n",
      "13                               Gracías.\n",
      "14                             Lo siento.\n",
      "15                                 Salud.\n",
      "16                               De nada.\n",
      "17                        ¿Cuánto cuesta?\n",
      "18                          ¿Cuántos hay?\n",
      "19                            Hay muchos.\n",
      "20               ¿Quiere comprarlo usted?\n",
      "21                          ¿Qué hora es?\n",
      "22        ¿Cómo se dice maybe en Español?\n",
      "23                                    Sí.\n",
      "24                                    No.\n",
      "25                       Yo no comprendo.\n",
      "26         Por favor, habla mas despacio.\n",
      "27                                ¿Quièn?\n",
      "28                              ¿Por què?\n",
      "Name: Spanish, dtype: object, u'English': 0                         Good morning.\n",
      "1                       Good afternoon.\n",
      "2              Good evening. (greeting)\n",
      "3               Hello, my name is John.\n",
      "4                    What is your name?\n",
      "5                          How are you?\n",
      "6                            I am fine.\n",
      "7                     Nice to meet you.\n",
      "8                              Goodbye.\n",
      "9                        See you later.\n",
      "10    I am lost. Where is the restroom?\n",
      "11                           Excuse me.\n",
      "12                              Please.\n",
      "13                           Thank you.\n",
      "14                           I'm sorry.\n",
      "15                           Bless you.\n",
      "16    You are welcome (it was nothing).\n",
      "17               How much does it cost?\n",
      "18                  How many are there?\n",
      "19                      There are many.\n",
      "20             Do you want to buy this?\n",
      "21                     What time is it?\n",
      "22     How do you say maybe in Spanish?\n",
      "23                                 Yes.\n",
      "24                                  No.\n",
      "25                 I do not understand.\n",
      "26      Would you speak slower, please.\n",
      "27                                 Who?\n",
      "28                                 Why?\n",
      "Name: English, dtype: object}\n"
     ]
    }
   ],
   "source": [
    "print text"
   ]
  },
  {
   "cell_type": "code",
   "execution_count": 17,
   "metadata": {
    "collapsed": false
   },
   "outputs": [
    {
     "data": {
      "text/plain": [
       "{u'detectedSourceLanguage': u'es',\n",
       " 'input': 'hola mi amigo gorda',\n",
       " u'translatedText': u'Hello my fat friend'}"
      ]
     },
     "execution_count": 17,
     "metadata": {},
     "output_type": "execute_result"
    }
   ],
   "source": [
    "translate_client.translate(\"hola mi amigo gorda\", target_language='en')"
   ]
  },
  {
   "cell_type": "code",
   "execution_count": null,
   "metadata": {
    "collapsed": true
   },
   "outputs": [],
   "source": []
  },
  {
   "cell_type": "code",
   "execution_count": 93,
   "metadata": {
    "collapsed": false
   },
   "outputs": [
    {
     "data": {
      "text/plain": [
       "['once', '**&', 'upon', 'a', '..#', 'time', 'in', '99327', 'lando']"
      ]
     },
     "execution_count": 93,
     "metadata": {},
     "output_type": "execute_result"
    }
   ],
   "source": [
    "s.split(' ')"
   ]
  },
  {
   "cell_type": "code",
   "execution_count": 14,
   "metadata": {
    "collapsed": true
   },
   "outputs": [],
   "source": [
    "s = \"once **& upon a ..# time in 99327 lando\""
   ]
  },
  {
   "cell_type": "code",
   "execution_count": null,
   "metadata": {
    "collapsed": true
   },
   "outputs": [],
   "source": [
    "def is_number(s):\n",
    "    try:\n",
    "        float(s)\n",
    "        return True\n",
    "    except ValueError:\n",
    "        return False"
   ]
  },
  {
   "cell_type": "code",
   "execution_count": null,
   "metadata": {
    "collapsed": true
   },
   "outputs": [],
   "source": []
  },
  {
   "cell_type": "code",
   "execution_count": null,
   "metadata": {
    "collapsed": true
   },
   "outputs": [],
   "source": []
  },
  {
   "cell_type": "code",
   "execution_count": null,
   "metadata": {
    "collapsed": true
   },
   "outputs": [],
   "source": []
  }
 ],
 "metadata": {
  "kernelspec": {
   "display_name": "Python 2",
   "language": "python",
   "name": "python2"
  },
  "language_info": {
   "codemirror_mode": {
    "name": "ipython",
    "version": 2
   },
   "file_extension": ".py",
   "mimetype": "text/x-python",
   "name": "python",
   "nbconvert_exporter": "python",
   "pygments_lexer": "ipython2",
   "version": "2.7.12"
  }
 },
 "nbformat": 4,
 "nbformat_minor": 0
}
